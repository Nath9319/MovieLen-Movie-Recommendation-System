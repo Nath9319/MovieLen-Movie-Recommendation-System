{
 "cells": [
  {
   "cell_type": "code",
   "execution_count": 126,
   "metadata": {},
   "outputs": [],
   "source": [
    "import pandas as pd\n",
    "import numpy as np\n",
    "import seaborn as sns\n",
    "import matplotlib.pyplot as plt\n",
    "import warnings\n",
    "from collections import Counter\n",
    "import collections\n",
    "import re\n",
    "import nltk\n",
    "from sklearn.model_selection import train_test_split\n",
    "import scipy\n",
    "from sklearn.metrics.pairwise import cosine_similarity\n",
    "from datetime import datetime\n",
    "from sklearn.metrics.pairwise import pairwise_distances\n",
    "from sklearn.metrics import mean_squared_error\n",
    "from math import sqrt\n",
    "from surprise import Reader, Dataset\n",
    "from collections import defaultdict\n",
    "from surprise import SVD, NMF, model_selection, accuracy,BaselineOnly,SVDpp, SlopeOne, NMF, NormalPredictor, KNNBaseline, KNNBasic, KNNWithMeans, KNNWithZScore, BaselineOnly, CoClustering\n",
    "warnings.filterwarnings('ignore')\n",
    "sns.set_style('dark')"
   ]
  },
  {
   "cell_type": "markdown",
   "metadata": {},
   "source": [
    "# Data Loading"
   ]
  },
  {
   "cell_type": "code",
   "execution_count": 2,
   "metadata": {},
   "outputs": [
    {
     "name": "stdout",
     "output_type": "stream",
     "text": [
      "Shape:  (10681, 3)\n",
      "movieid    0\n",
      "movie      0\n",
      "genre      0\n",
      "dtype: int64\n"
     ]
    },
    {
     "data": {
      "text/html": [
       "<div>\n",
       "<style scoped>\n",
       "    .dataframe tbody tr th:only-of-type {\n",
       "        vertical-align: middle;\n",
       "    }\n",
       "\n",
       "    .dataframe tbody tr th {\n",
       "        vertical-align: top;\n",
       "    }\n",
       "\n",
       "    .dataframe thead th {\n",
       "        text-align: right;\n",
       "    }\n",
       "</style>\n",
       "<table border=\"1\" class=\"dataframe\">\n",
       "  <thead>\n",
       "    <tr style=\"text-align: right;\">\n",
       "      <th></th>\n",
       "      <th>movieid</th>\n",
       "      <th>movie</th>\n",
       "      <th>genre</th>\n",
       "    </tr>\n",
       "  </thead>\n",
       "  <tbody>\n",
       "    <tr>\n",
       "      <th>0</th>\n",
       "      <td>1</td>\n",
       "      <td>Toy Story (1995)</td>\n",
       "      <td>Adventure|Animation|Children|Comedy|Fantasy</td>\n",
       "    </tr>\n",
       "    <tr>\n",
       "      <th>1</th>\n",
       "      <td>2</td>\n",
       "      <td>Jumanji (1995)</td>\n",
       "      <td>Adventure|Children|Fantasy</td>\n",
       "    </tr>\n",
       "    <tr>\n",
       "      <th>2</th>\n",
       "      <td>3</td>\n",
       "      <td>Grumpier Old Men (1995)</td>\n",
       "      <td>Comedy|Romance</td>\n",
       "    </tr>\n",
       "    <tr>\n",
       "      <th>3</th>\n",
       "      <td>4</td>\n",
       "      <td>Waiting to Exhale (1995)</td>\n",
       "      <td>Comedy|Drama|Romance</td>\n",
       "    </tr>\n",
       "    <tr>\n",
       "      <th>4</th>\n",
       "      <td>5</td>\n",
       "      <td>Father of the Bride Part II (1995)</td>\n",
       "      <td>Comedy</td>\n",
       "    </tr>\n",
       "  </tbody>\n",
       "</table>\n",
       "</div>"
      ],
      "text/plain": [
       "   movieid                               movie  \\\n",
       "0        1                    Toy Story (1995)   \n",
       "1        2                      Jumanji (1995)   \n",
       "2        3             Grumpier Old Men (1995)   \n",
       "3        4            Waiting to Exhale (1995)   \n",
       "4        5  Father of the Bride Part II (1995)   \n",
       "\n",
       "                                         genre  \n",
       "0  Adventure|Animation|Children|Comedy|Fantasy  \n",
       "1                   Adventure|Children|Fantasy  \n",
       "2                               Comedy|Romance  \n",
       "3                         Comedy|Drama|Romance  \n",
       "4                                       Comedy  "
      ]
     },
     "execution_count": 2,
     "metadata": {},
     "output_type": "execute_result"
    }
   ],
   "source": [
    "movie = pd.read_table(\"movies.dat\",sep='::',names=['movieid','movie','genre'])\n",
    "print(\"Shape: \", movie.shape)\n",
    "print(movie.isna().sum())\n",
    "movie.head()"
   ]
  },
  {
   "cell_type": "code",
   "execution_count": 3,
   "metadata": {},
   "outputs": [
    {
     "name": "stdout",
     "output_type": "stream",
     "text": [
      "Shape:  (10000054, 4)\n",
      "userid       0\n",
      "movieid      0\n",
      "rating       0\n",
      "timestamp    0\n",
      "dtype: int64\n"
     ]
    },
    {
     "data": {
      "text/html": [
       "<div>\n",
       "<style scoped>\n",
       "    .dataframe tbody tr th:only-of-type {\n",
       "        vertical-align: middle;\n",
       "    }\n",
       "\n",
       "    .dataframe tbody tr th {\n",
       "        vertical-align: top;\n",
       "    }\n",
       "\n",
       "    .dataframe thead th {\n",
       "        text-align: right;\n",
       "    }\n",
       "</style>\n",
       "<table border=\"1\" class=\"dataframe\">\n",
       "  <thead>\n",
       "    <tr style=\"text-align: right;\">\n",
       "      <th></th>\n",
       "      <th>userid</th>\n",
       "      <th>movieid</th>\n",
       "      <th>rating</th>\n",
       "      <th>timestamp</th>\n",
       "    </tr>\n",
       "  </thead>\n",
       "  <tbody>\n",
       "    <tr>\n",
       "      <th>0</th>\n",
       "      <td>1</td>\n",
       "      <td>122</td>\n",
       "      <td>5.0</td>\n",
       "      <td>838985046</td>\n",
       "    </tr>\n",
       "    <tr>\n",
       "      <th>1</th>\n",
       "      <td>1</td>\n",
       "      <td>185</td>\n",
       "      <td>5.0</td>\n",
       "      <td>838983525</td>\n",
       "    </tr>\n",
       "    <tr>\n",
       "      <th>2</th>\n",
       "      <td>1</td>\n",
       "      <td>231</td>\n",
       "      <td>5.0</td>\n",
       "      <td>838983392</td>\n",
       "    </tr>\n",
       "    <tr>\n",
       "      <th>3</th>\n",
       "      <td>1</td>\n",
       "      <td>292</td>\n",
       "      <td>5.0</td>\n",
       "      <td>838983421</td>\n",
       "    </tr>\n",
       "    <tr>\n",
       "      <th>4</th>\n",
       "      <td>1</td>\n",
       "      <td>316</td>\n",
       "      <td>5.0</td>\n",
       "      <td>838983392</td>\n",
       "    </tr>\n",
       "  </tbody>\n",
       "</table>\n",
       "</div>"
      ],
      "text/plain": [
       "   userid  movieid  rating  timestamp\n",
       "0       1      122     5.0  838985046\n",
       "1       1      185     5.0  838983525\n",
       "2       1      231     5.0  838983392\n",
       "3       1      292     5.0  838983421\n",
       "4       1      316     5.0  838983392"
      ]
     },
     "execution_count": 3,
     "metadata": {},
     "output_type": "execute_result"
    }
   ],
   "source": [
    "ratings = pd.read_table(\"ratings.dat\",sep='::',names=[\"userid\",\"movieid\",\"rating\",\"timestamp\"])\n",
    "print(\"Shape: \", ratings.shape)\n",
    "print(ratings.isna().sum())\n",
    "ratings.head()"
   ]
  },
  {
   "cell_type": "code",
   "execution_count": 4,
   "metadata": {},
   "outputs": [
    {
     "name": "stdout",
     "output_type": "stream",
     "text": [
      "Shape:  (95580, 4)\n",
      "userid        0\n",
      "movieid       0\n",
      "tag          16\n",
      "timestamp     0\n",
      "dtype: int64\n"
     ]
    },
    {
     "data": {
      "text/html": [
       "<div>\n",
       "<style scoped>\n",
       "    .dataframe tbody tr th:only-of-type {\n",
       "        vertical-align: middle;\n",
       "    }\n",
       "\n",
       "    .dataframe tbody tr th {\n",
       "        vertical-align: top;\n",
       "    }\n",
       "\n",
       "    .dataframe thead th {\n",
       "        text-align: right;\n",
       "    }\n",
       "</style>\n",
       "<table border=\"1\" class=\"dataframe\">\n",
       "  <thead>\n",
       "    <tr style=\"text-align: right;\">\n",
       "      <th></th>\n",
       "      <th>userid</th>\n",
       "      <th>movieid</th>\n",
       "      <th>tag</th>\n",
       "      <th>timestamp</th>\n",
       "    </tr>\n",
       "  </thead>\n",
       "  <tbody>\n",
       "    <tr>\n",
       "      <th>0</th>\n",
       "      <td>15</td>\n",
       "      <td>4973</td>\n",
       "      <td>excellent!</td>\n",
       "      <td>1215184630</td>\n",
       "    </tr>\n",
       "    <tr>\n",
       "      <th>1</th>\n",
       "      <td>20</td>\n",
       "      <td>1747</td>\n",
       "      <td>politics</td>\n",
       "      <td>1188263867</td>\n",
       "    </tr>\n",
       "    <tr>\n",
       "      <th>2</th>\n",
       "      <td>20</td>\n",
       "      <td>1747</td>\n",
       "      <td>satire</td>\n",
       "      <td>1188263867</td>\n",
       "    </tr>\n",
       "    <tr>\n",
       "      <th>3</th>\n",
       "      <td>20</td>\n",
       "      <td>2424</td>\n",
       "      <td>chick flick 212</td>\n",
       "      <td>1188263835</td>\n",
       "    </tr>\n",
       "    <tr>\n",
       "      <th>4</th>\n",
       "      <td>20</td>\n",
       "      <td>2424</td>\n",
       "      <td>hanks</td>\n",
       "      <td>1188263835</td>\n",
       "    </tr>\n",
       "  </tbody>\n",
       "</table>\n",
       "</div>"
      ],
      "text/plain": [
       "   userid  movieid              tag   timestamp\n",
       "0      15     4973       excellent!  1215184630\n",
       "1      20     1747         politics  1188263867\n",
       "2      20     1747           satire  1188263867\n",
       "3      20     2424  chick flick 212  1188263835\n",
       "4      20     2424            hanks  1188263835"
      ]
     },
     "execution_count": 4,
     "metadata": {},
     "output_type": "execute_result"
    }
   ],
   "source": [
    "tags = pd.read_table(\"tags.dat\",names=[\"userid\",\"movieid\",\"tag\",\"timestamp\"],sep='::')\n",
    "print(\"Shape: \", tags.shape)\n",
    "print(tags.isna().sum())\n",
    "tags.head()"
   ]
  },
  {
   "cell_type": "code",
   "execution_count": 5,
   "metadata": {},
   "outputs": [
    {
     "data": {
      "text/html": [
       "<div>\n",
       "<style scoped>\n",
       "    .dataframe tbody tr th:only-of-type {\n",
       "        vertical-align: middle;\n",
       "    }\n",
       "\n",
       "    .dataframe tbody tr th {\n",
       "        vertical-align: top;\n",
       "    }\n",
       "\n",
       "    .dataframe thead th {\n",
       "        text-align: right;\n",
       "    }\n",
       "</style>\n",
       "<table border=\"1\" class=\"dataframe\">\n",
       "  <thead>\n",
       "    <tr style=\"text-align: right;\">\n",
       "      <th></th>\n",
       "      <th>count</th>\n",
       "      <th>mean</th>\n",
       "      <th>std</th>\n",
       "      <th>min</th>\n",
       "      <th>25%</th>\n",
       "      <th>50%</th>\n",
       "      <th>75%</th>\n",
       "      <th>max</th>\n",
       "    </tr>\n",
       "  </thead>\n",
       "  <tbody>\n",
       "    <tr>\n",
       "      <th>movieid</th>\n",
       "      <td>10681.0</td>\n",
       "      <td>13120.523546</td>\n",
       "      <td>17808.849139</td>\n",
       "      <td>1.0</td>\n",
       "      <td>2755.0</td>\n",
       "      <td>5436.0</td>\n",
       "      <td>8713.0</td>\n",
       "      <td>65133.0</td>\n",
       "    </tr>\n",
       "  </tbody>\n",
       "</table>\n",
       "</div>"
      ],
      "text/plain": [
       "           count          mean           std  min     25%     50%     75%  \\\n",
       "movieid  10681.0  13120.523546  17808.849139  1.0  2755.0  5436.0  8713.0   \n",
       "\n",
       "             max  \n",
       "movieid  65133.0  "
      ]
     },
     "execution_count": 5,
     "metadata": {},
     "output_type": "execute_result"
    }
   ],
   "source": [
    "movie.describe().T"
   ]
  },
  {
   "cell_type": "code",
   "execution_count": 6,
   "metadata": {},
   "outputs": [
    {
     "data": {
      "text/html": [
       "<div>\n",
       "<style scoped>\n",
       "    .dataframe tbody tr th:only-of-type {\n",
       "        vertical-align: middle;\n",
       "    }\n",
       "\n",
       "    .dataframe tbody tr th {\n",
       "        vertical-align: top;\n",
       "    }\n",
       "\n",
       "    .dataframe thead th {\n",
       "        text-align: right;\n",
       "    }\n",
       "</style>\n",
       "<table border=\"1\" class=\"dataframe\">\n",
       "  <thead>\n",
       "    <tr style=\"text-align: right;\">\n",
       "      <th></th>\n",
       "      <th>count</th>\n",
       "      <th>mean</th>\n",
       "      <th>std</th>\n",
       "      <th>min</th>\n",
       "      <th>25%</th>\n",
       "      <th>50%</th>\n",
       "      <th>75%</th>\n",
       "      <th>max</th>\n",
       "    </tr>\n",
       "  </thead>\n",
       "  <tbody>\n",
       "    <tr>\n",
       "      <th>userid</th>\n",
       "      <td>95580.0</td>\n",
       "      <td>3.396336e+04</td>\n",
       "      <td>2.091622e+04</td>\n",
       "      <td>1.500000e+01</td>\n",
       "      <td>1.676600e+04</td>\n",
       "      <td>3.117500e+04</td>\n",
       "      <td>5.137200e+04</td>\n",
       "      <td>7.155600e+04</td>\n",
       "    </tr>\n",
       "    <tr>\n",
       "      <th>movieid</th>\n",
       "      <td>95580.0</td>\n",
       "      <td>1.251105e+04</td>\n",
       "      <td>1.753497e+04</td>\n",
       "      <td>1.000000e+00</td>\n",
       "      <td>1.645000e+03</td>\n",
       "      <td>4.308000e+03</td>\n",
       "      <td>8.641000e+03</td>\n",
       "      <td>6.513000e+04</td>\n",
       "    </tr>\n",
       "    <tr>\n",
       "      <th>timestamp</th>\n",
       "      <td>95580.0</td>\n",
       "      <td>1.176687e+09</td>\n",
       "      <td>2.779340e+07</td>\n",
       "      <td>1.135313e+09</td>\n",
       "      <td>1.151067e+09</td>\n",
       "      <td>1.174660e+09</td>\n",
       "      <td>1.197917e+09</td>\n",
       "      <td>1.231129e+09</td>\n",
       "    </tr>\n",
       "  </tbody>\n",
       "</table>\n",
       "</div>"
      ],
      "text/plain": [
       "             count          mean           std           min           25%  \\\n",
       "userid     95580.0  3.396336e+04  2.091622e+04  1.500000e+01  1.676600e+04   \n",
       "movieid    95580.0  1.251105e+04  1.753497e+04  1.000000e+00  1.645000e+03   \n",
       "timestamp  95580.0  1.176687e+09  2.779340e+07  1.135313e+09  1.151067e+09   \n",
       "\n",
       "                    50%           75%           max  \n",
       "userid     3.117500e+04  5.137200e+04  7.155600e+04  \n",
       "movieid    4.308000e+03  8.641000e+03  6.513000e+04  \n",
       "timestamp  1.174660e+09  1.197917e+09  1.231129e+09  "
      ]
     },
     "execution_count": 6,
     "metadata": {},
     "output_type": "execute_result"
    }
   ],
   "source": [
    "tags.describe().T"
   ]
  },
  {
   "cell_type": "code",
   "execution_count": 7,
   "metadata": {},
   "outputs": [
    {
     "data": {
      "text/html": [
       "<div>\n",
       "<style scoped>\n",
       "    .dataframe tbody tr th:only-of-type {\n",
       "        vertical-align: middle;\n",
       "    }\n",
       "\n",
       "    .dataframe tbody tr th {\n",
       "        vertical-align: top;\n",
       "    }\n",
       "\n",
       "    .dataframe thead th {\n",
       "        text-align: right;\n",
       "    }\n",
       "</style>\n",
       "<table border=\"1\" class=\"dataframe\">\n",
       "  <thead>\n",
       "    <tr style=\"text-align: right;\">\n",
       "      <th></th>\n",
       "      <th>count</th>\n",
       "      <th>mean</th>\n",
       "      <th>std</th>\n",
       "      <th>min</th>\n",
       "      <th>25%</th>\n",
       "      <th>50%</th>\n",
       "      <th>75%</th>\n",
       "      <th>max</th>\n",
       "    </tr>\n",
       "  </thead>\n",
       "  <tbody>\n",
       "    <tr>\n",
       "      <th>userid</th>\n",
       "      <td>10000054.0</td>\n",
       "      <td>3.586986e+04</td>\n",
       "      <td>2.058534e+04</td>\n",
       "      <td>1.0</td>\n",
       "      <td>18123.0</td>\n",
       "      <td>3.574050e+04</td>\n",
       "      <td>5.360800e+04</td>\n",
       "      <td>7.156700e+04</td>\n",
       "    </tr>\n",
       "    <tr>\n",
       "      <th>movieid</th>\n",
       "      <td>10000054.0</td>\n",
       "      <td>4.120291e+03</td>\n",
       "      <td>8.938402e+03</td>\n",
       "      <td>1.0</td>\n",
       "      <td>648.0</td>\n",
       "      <td>1.834000e+03</td>\n",
       "      <td>3.624000e+03</td>\n",
       "      <td>6.513300e+04</td>\n",
       "    </tr>\n",
       "    <tr>\n",
       "      <th>rating</th>\n",
       "      <td>10000054.0</td>\n",
       "      <td>3.512422e+00</td>\n",
       "      <td>1.060418e+00</td>\n",
       "      <td>0.5</td>\n",
       "      <td>3.0</td>\n",
       "      <td>4.000000e+00</td>\n",
       "      <td>4.000000e+00</td>\n",
       "      <td>5.000000e+00</td>\n",
       "    </tr>\n",
       "    <tr>\n",
       "      <th>timestamp</th>\n",
       "      <td>10000054.0</td>\n",
       "      <td>1.032606e+09</td>\n",
       "      <td>1.159640e+08</td>\n",
       "      <td>789652009.0</td>\n",
       "      <td>946765880.0</td>\n",
       "      <td>1.035476e+09</td>\n",
       "      <td>1.126749e+09</td>\n",
       "      <td>1.231132e+09</td>\n",
       "    </tr>\n",
       "  </tbody>\n",
       "</table>\n",
       "</div>"
      ],
      "text/plain": [
       "                count          mean           std          min          25%  \\\n",
       "userid     10000054.0  3.586986e+04  2.058534e+04          1.0      18123.0   \n",
       "movieid    10000054.0  4.120291e+03  8.938402e+03          1.0        648.0   \n",
       "rating     10000054.0  3.512422e+00  1.060418e+00          0.5          3.0   \n",
       "timestamp  10000054.0  1.032606e+09  1.159640e+08  789652009.0  946765880.0   \n",
       "\n",
       "                    50%           75%           max  \n",
       "userid     3.574050e+04  5.360800e+04  7.156700e+04  \n",
       "movieid    1.834000e+03  3.624000e+03  6.513300e+04  \n",
       "rating     4.000000e+00  4.000000e+00  5.000000e+00  \n",
       "timestamp  1.035476e+09  1.126749e+09  1.231132e+09  "
      ]
     },
     "execution_count": 7,
     "metadata": {},
     "output_type": "execute_result"
    }
   ],
   "source": [
    "ratings.describe().T"
   ]
  },
  {
   "cell_type": "markdown",
   "metadata": {},
   "source": [
    "# EDA"
   ]
  },
  {
   "cell_type": "markdown",
   "metadata": {},
   "source": [
    "## Movie Dataset"
   ]
  },
  {
   "cell_type": "code",
   "execution_count": 186,
   "metadata": {},
   "outputs": [],
   "source": [
    "# Genre Analysis\n",
    "split_bar = \" \".join(movie.genre).split(\"|\") # Splitting the data from '|'\n",
    "split_genre = []\n",
    "for s in range(len(split_bar)): # Splittinng the data at the space where there are two letters\n",
    "    if (\" \" in \" \".join(movie.genre).split(\"|\")[s]):\n",
    "        split_genre.append(split_bar[s].split(\" \"))\n",
    "    else:\n",
    "        split_genre.append(split_bar[s])"
   ]
  },
  {
   "cell_type": "code",
   "execution_count": 187,
   "metadata": {},
   "outputs": [],
   "source": [
    "split_genre = nltk.flatten(split_genre) # Flattening the list from the nested"
   ]
  },
  {
   "cell_type": "code",
   "execution_count": 198,
   "metadata": {},
   "outputs": [
    {
     "data": {
      "image/png": "[encoded data removed]",
      "text/plain": [
       "<Figure size 1296x432 with 1 Axes>"
      ]
     },
     "metadata": {},
     "output_type": "display_data"
    }
   ],
   "source": [
    "my_df = pd.DataFrame(dict(Counter(dict(Counter(split_genre))).most_common()).items())\n",
    "fig, ax = plt.subplots(figsize=(18,6))\n",
    "ax = sns.barplot(x=0, y=1, data=my_df)\n",
    "ax.set(xlabel = 'Genre', ylabel='Count')\n",
    "plt.title(\"Genre Feeq\",size = 14)\n",
    "plt.grid()\n",
    "plt.xticks(rotation=20)\n",
    "plt.show()"
   ]
  },
  {
   "cell_type": "markdown",
   "metadata": {},
   "source": [
    "## Ratings"
   ]
  },
  {
   "cell_type": "code",
   "execution_count": 78,
   "metadata": {},
   "outputs": [
    {
     "data": {
      "text/plain": [
       "Index(['userid', 'movieid', 'rating', 'timestamp'], dtype='object')"
      ]
     },
     "execution_count": 78,
     "metadata": {},
     "output_type": "execute_result"
    }
   ],
   "source": [
    "ratings.columns"
   ]
  },
  {
   "cell_type": "code",
   "execution_count": 80,
   "metadata": {},
   "outputs": [
    {
     "data": {
      "text/plain": [
       "69878"
      ]
     },
     "execution_count": 80,
     "metadata": {},
     "output_type": "execute_result"
    }
   ],
   "source": [
    "len(ratings.userid.unique())"
   ]
  },
  {
   "cell_type": "code",
   "execution_count": 81,
   "metadata": {},
   "outputs": [
    {
     "data": {
      "text/plain": [
       "10677"
      ]
     },
     "execution_count": 81,
     "metadata": {},
     "output_type": "execute_result"
    }
   ],
   "source": [
    "len(ratings.movieid.unique())"
   ]
  },
  {
   "cell_type": "code",
   "execution_count": 82,
   "metadata": {},
   "outputs": [
    {
     "data": {
      "text/plain": [
       "10"
      ]
     },
     "execution_count": 82,
     "metadata": {},
     "output_type": "execute_result"
    }
   ],
   "source": [
    "len(ratings.rating.unique())"
   ]
  },
  {
   "cell_type": "code",
   "execution_count": 83,
   "metadata": {},
   "outputs": [
    {
     "data": {
      "text/plain": [
       "7096905"
      ]
     },
     "execution_count": 83,
     "metadata": {},
     "output_type": "execute_result"
    }
   ],
   "source": [
    "len(ratings.timestamp.unique())"
   ]
  },
  {
   "cell_type": "code",
   "execution_count": 84,
   "metadata": {},
   "outputs": [
    {
     "data": {
      "text/plain": [
       "(10000054, 4)"
      ]
     },
     "execution_count": 84,
     "metadata": {},
     "output_type": "execute_result"
    }
   ],
   "source": [
    "ratings.shape"
   ]
  },
  {
   "cell_type": "code",
   "execution_count": 95,
   "metadata": {},
   "outputs": [
    {
     "data": {
      "image/png": "[encoded data removed]",
      "text/plain": [
       "<Figure size 1080x288 with 1 Axes>"
      ]
     },
     "metadata": {},
     "output_type": "display_data"
    }
   ],
   "source": [
    "sns.set_style('dark')\n",
    "fig, ax = plt.subplots(figsize=(15,4))\n",
    "sns.countplot(ratings['rating'],ax = ax)\n",
    "plt.title(\"Ratings Freq\", size=14)\n",
    "plt.grid()\n",
    "plt.show()"
   ]
  },
  {
   "cell_type": "markdown",
   "metadata": {},
   "source": [
    "## Tags"
   ]
  },
  {
   "cell_type": "code",
   "execution_count": 96,
   "metadata": {},
   "outputs": [
    {
     "data": {
      "text/plain": [
       "Index(['userid', 'movieid', 'tag', 'timestamp'], dtype='object')"
      ]
     },
     "execution_count": 96,
     "metadata": {},
     "output_type": "execute_result"
    }
   ],
   "source": [
    "tags.columns"
   ]
  },
  {
   "cell_type": "code",
   "execution_count": 199,
   "metadata": {},
   "outputs": [
    {
     "data": {
      "text/plain": [
       "Index(['userid', 'movieid', 'rating', 'timestamp'], dtype='object')"
      ]
     },
     "execution_count": 199,
     "metadata": {},
     "output_type": "execute_result"
    }
   ],
   "source": [
    "ratings.columns"
   ]
  },
  {
   "cell_type": "code",
   "execution_count": 208,
   "metadata": {},
   "outputs": [
    {
     "data": {
      "text/plain": [
       "Index(['movieid', 'movie', 'genre'], dtype='object')"
      ]
     },
     "execution_count": 208,
     "metadata": {},
     "output_type": "execute_result"
    }
   ],
   "source": [
    "movie.columns"
   ]
  },
  {
   "cell_type": "code",
   "execution_count": 209,
   "metadata": {},
   "outputs": [
    {
     "data": {
      "text/html": [
       "<div>\n",
       "<style scoped>\n",
       "    .dataframe tbody tr th:only-of-type {\n",
       "        vertical-align: middle;\n",
       "    }\n",
       "\n",
       "    .dataframe tbody tr th {\n",
       "        vertical-align: top;\n",
       "    }\n",
       "\n",
       "    .dataframe thead th {\n",
       "        text-align: right;\n",
       "    }\n",
       "</style>\n",
       "<table border=\"1\" class=\"dataframe\">\n",
       "  <thead>\n",
       "    <tr style=\"text-align: right;\">\n",
       "      <th></th>\n",
       "      <th>userid</th>\n",
       "      <th>movieid</th>\n",
       "      <th>rating</th>\n",
       "      <th>timestamp</th>\n",
       "      <th>movie</th>\n",
       "      <th>genre</th>\n",
       "    </tr>\n",
       "  </thead>\n",
       "  <tbody>\n",
       "    <tr>\n",
       "      <th>0</th>\n",
       "      <td>1.0</td>\n",
       "      <td>122</td>\n",
       "      <td>5.0</td>\n",
       "      <td>8.389850e+08</td>\n",
       "      <td>Boomerang (1992)</td>\n",
       "      <td>Comedy|Romance</td>\n",
       "    </tr>\n",
       "    <tr>\n",
       "      <th>1</th>\n",
       "      <td>139.0</td>\n",
       "      <td>122</td>\n",
       "      <td>3.0</td>\n",
       "      <td>9.743026e+08</td>\n",
       "      <td>Boomerang (1992)</td>\n",
       "      <td>Comedy|Romance</td>\n",
       "    </tr>\n",
       "    <tr>\n",
       "      <th>2</th>\n",
       "      <td>149.0</td>\n",
       "      <td>122</td>\n",
       "      <td>2.5</td>\n",
       "      <td>1.112342e+09</td>\n",
       "      <td>Boomerang (1992)</td>\n",
       "      <td>Comedy|Romance</td>\n",
       "    </tr>\n",
       "    <tr>\n",
       "      <th>3</th>\n",
       "      <td>182.0</td>\n",
       "      <td>122</td>\n",
       "      <td>3.0</td>\n",
       "      <td>9.434588e+08</td>\n",
       "      <td>Boomerang (1992)</td>\n",
       "      <td>Comedy|Romance</td>\n",
       "    </tr>\n",
       "    <tr>\n",
       "      <th>4</th>\n",
       "      <td>215.0</td>\n",
       "      <td>122</td>\n",
       "      <td>4.5</td>\n",
       "      <td>1.102494e+09</td>\n",
       "      <td>Boomerang (1992)</td>\n",
       "      <td>Comedy|Romance</td>\n",
       "    </tr>\n",
       "  </tbody>\n",
       "</table>\n",
       "</div>"
      ],
      "text/plain": [
       "   userid  movieid  rating     timestamp             movie           genre\n",
       "0     1.0      122     5.0  8.389850e+08  Boomerang (1992)  Comedy|Romance\n",
       "1   139.0      122     3.0  9.743026e+08  Boomerang (1992)  Comedy|Romance\n",
       "2   149.0      122     2.5  1.112342e+09  Boomerang (1992)  Comedy|Romance\n",
       "3   182.0      122     3.0  9.434588e+08  Boomerang (1992)  Comedy|Romance\n",
       "4   215.0      122     4.5  1.102494e+09  Boomerang (1992)  Comedy|Romance"
      ]
     },
     "execution_count": 209,
     "metadata": {},
     "output_type": "execute_result"
    }
   ],
   "source": [
    "data = pd.merge(ratings,movie,on =['movieid'],how='outer')\n",
    "data.head()"
   ]
  },
  {
   "cell_type": "code",
   "execution_count": 210,
   "metadata": {},
   "outputs": [
    {
     "data": {
      "text/plain": [
       "userid       4\n",
       "movieid      0\n",
       "rating       4\n",
       "timestamp    4\n",
       "movie        0\n",
       "genre        0\n",
       "dtype: int64"
      ]
     },
     "execution_count": 210,
     "metadata": {},
     "output_type": "execute_result"
    }
   ],
   "source": [
    "data.isna().sum()"
   ]
  },
  {
   "cell_type": "code",
   "execution_count": 212,
   "metadata": {},
   "outputs": [],
   "source": [
    "data.reset_index(drop=True)\n",
    "data.to_pickle(\"data.pkl\")"
   ]
  },
  {
   "cell_type": "code",
   "execution_count": 112,
   "metadata": {},
   "outputs": [
    {
     "data": {
      "text/html": [
       "<div>\n",
       "<style scoped>\n",
       "    .dataframe tbody tr th:only-of-type {\n",
       "        vertical-align: middle;\n",
       "    }\n",
       "\n",
       "    .dataframe tbody tr th {\n",
       "        vertical-align: top;\n",
       "    }\n",
       "\n",
       "    .dataframe thead th {\n",
       "        text-align: right;\n",
       "    }\n",
       "</style>\n",
       "<table border=\"1\" class=\"dataframe\">\n",
       "  <thead>\n",
       "    <tr style=\"text-align: right;\">\n",
       "      <th></th>\n",
       "      <th>userid</th>\n",
       "      <th>movieid</th>\n",
       "      <th>rating</th>\n",
       "      <th>movie</th>\n",
       "      <th>genre</th>\n",
       "    </tr>\n",
       "  </thead>\n",
       "  <tbody>\n",
       "    <tr>\n",
       "      <th>2</th>\n",
       "      <td>1751</td>\n",
       "      <td>4973</td>\n",
       "      <td>4.5</td>\n",
       "      <td>Amelie (Fabuleux destin d'AmÃ©lie Poulain, Le)...</td>\n",
       "      <td>Comedy|Romance</td>\n",
       "    </tr>\n",
       "    <tr>\n",
       "      <th>8</th>\n",
       "      <td>4335</td>\n",
       "      <td>4973</td>\n",
       "      <td>3.5</td>\n",
       "      <td>Amelie (Fabuleux destin d'AmÃ©lie Poulain, Le)...</td>\n",
       "      <td>Comedy|Romance</td>\n",
       "    </tr>\n",
       "    <tr>\n",
       "      <th>9</th>\n",
       "      <td>4650</td>\n",
       "      <td>4973</td>\n",
       "      <td>4.5</td>\n",
       "      <td>Amelie (Fabuleux destin d'AmÃ©lie Poulain, Le)...</td>\n",
       "      <td>Comedy|Romance</td>\n",
       "    </tr>\n",
       "    <tr>\n",
       "      <th>10</th>\n",
       "      <td>4650</td>\n",
       "      <td>4973</td>\n",
       "      <td>4.5</td>\n",
       "      <td>Amelie (Fabuleux destin d'AmÃ©lie Poulain, Le)...</td>\n",
       "      <td>Comedy|Romance</td>\n",
       "    </tr>\n",
       "    <tr>\n",
       "      <th>11</th>\n",
       "      <td>4650</td>\n",
       "      <td>4973</td>\n",
       "      <td>4.5</td>\n",
       "      <td>Amelie (Fabuleux destin d'AmÃ©lie Poulain, Le)...</td>\n",
       "      <td>Comedy|Romance</td>\n",
       "    </tr>\n",
       "  </tbody>\n",
       "</table>\n",
       "</div>"
      ],
      "text/plain": [
       "    userid  movieid  rating  \\\n",
       "2     1751     4973     4.5   \n",
       "8     4335     4973     3.5   \n",
       "9     4650     4973     4.5   \n",
       "10    4650     4973     4.5   \n",
       "11    4650     4973     4.5   \n",
       "\n",
       "                                                movie           genre  \n",
       "2   Amelie (Fabuleux destin d'AmÃ©lie Poulain, Le)...  Comedy|Romance  \n",
       "8   Amelie (Fabuleux destin d'AmÃ©lie Poulain, Le)...  Comedy|Romance  \n",
       "9   Amelie (Fabuleux destin d'AmÃ©lie Poulain, Le)...  Comedy|Romance  \n",
       "10  Amelie (Fabuleux destin d'AmÃ©lie Poulain, Le)...  Comedy|Romance  \n",
       "11  Amelie (Fabuleux destin d'AmÃ©lie Poulain, Le)...  Comedy|Romance  "
      ]
     },
     "execution_count": 112,
     "metadata": {},
     "output_type": "execute_result"
    }
   ],
   "source": [
    "data.head()"
   ]
  },
  {
   "cell_type": "code",
   "execution_count": 2,
   "metadata": {},
   "outputs": [],
   "source": [
    "data = pd.read_pickle('data.pkl')"
   ]
  },
  {
   "cell_type": "code",
   "execution_count": 214,
   "metadata": {},
   "outputs": [
    {
     "data": {
      "text/html": [
       "<div>\n",
       "<style scoped>\n",
       "    .dataframe tbody tr th:only-of-type {\n",
       "        vertical-align: middle;\n",
       "    }\n",
       "\n",
       "    .dataframe tbody tr th {\n",
       "        vertical-align: top;\n",
       "    }\n",
       "\n",
       "    .dataframe thead th {\n",
       "        text-align: right;\n",
       "    }\n",
       "</style>\n",
       "<table border=\"1\" class=\"dataframe\">\n",
       "  <thead>\n",
       "    <tr style=\"text-align: right;\">\n",
       "      <th></th>\n",
       "      <th>userid</th>\n",
       "      <th>movieid</th>\n",
       "      <th>rating</th>\n",
       "      <th>timestamp</th>\n",
       "      <th>movie</th>\n",
       "      <th>genre</th>\n",
       "    </tr>\n",
       "  </thead>\n",
       "  <tbody>\n",
       "  </tbody>\n",
       "</table>\n",
       "</div>"
      ],
      "text/plain": [
       "Empty DataFrame\n",
       "Columns: [userid, movieid, rating, timestamp, movie, genre]\n",
       "Index: []"
      ]
     },
     "execution_count": 214,
     "metadata": {},
     "output_type": "execute_result"
    }
   ],
   "source": [
    "data[data.duplicated()]"
   ]
  },
  {
   "cell_type": "markdown",
   "metadata": {},
   "source": [
    "## Merged data analysis"
   ]
  },
  {
   "cell_type": "code",
   "execution_count": 215,
   "metadata": {},
   "outputs": [
    {
     "name": "stdout",
     "output_type": "stream",
     "text": [
      "Total data \n",
      "--------------------------------------------------\n",
      "\n",
      "Total no of ratings : 10000058\n",
      "Total No of Users   : 69882\n",
      "Total No of movies  : 10681\n"
     ]
    }
   ],
   "source": [
    "print(\"Total data \")\n",
    "print(\"-\"*50)\n",
    "print(\"\\nTotal no of ratings :\",data.shape[0])\n",
    "print(\"Total No of Users   :\", len(np.unique(data.userid)))\n",
    "print(\"Total No of movies  :\", len(np.unique(data.movieid)))"
   ]
  },
  {
   "cell_type": "code",
   "execution_count": 216,
   "metadata": {},
   "outputs": [
    {
     "data": {
      "text/plain": [
       "userid\n",
       "59269.0    7359\n",
       "67385.0    7047\n",
       "14463.0    5169\n",
       "68259.0    4483\n",
       "27468.0    4449\n",
       "Name: rating, dtype: int64"
      ]
     },
     "execution_count": 216,
     "metadata": {},
     "output_type": "execute_result"
    }
   ],
   "source": [
    "# Movies rated\n",
    "no_of_rated_movies_per_user = data.groupby(by='userid')['rating'].count().sort_values(ascending=False)\n",
    "\n",
    "no_of_rated_movies_per_user.head()"
   ]
  },
  {
   "cell_type": "code",
   "execution_count": 217,
   "metadata": {},
   "outputs": [
    {
     "data": {
      "image/png": "[encoded data removed]",
      "text/plain": [
       "<Figure size 1080x432 with 2 Axes>"
      ]
     },
     "metadata": {},
     "output_type": "display_data"
    }
   ],
   "source": [
    "fig = plt.figure(figsize=(15,6))\n",
    "\n",
    "ax1 = plt.subplot(121)\n",
    "sns.kdeplot(no_of_rated_movies_per_user, shade=True, ax=ax1)\n",
    "plt.xlabel('No of ratings by user',size = 14)\n",
    "plt.title(\"PDF\",size = 14)\n",
    "\n",
    "ax2 = plt.subplot(122)\n",
    "sns.kdeplot(no_of_rated_movies_per_user, shade=True, cumulative=True,ax=ax2)\n",
    "plt.xlabel('No of ratings by user',size = 14)\n",
    "plt.title('CDF',size = 14)\n",
    "\n",
    "plt.show()"
   ]
  },
  {
   "cell_type": "code",
   "execution_count": 220,
   "metadata": {},
   "outputs": [
    {
     "data": {
      "text/plain": [
       "count    69878.00000\n",
       "mean       143.10733\n",
       "std        216.71258\n",
       "min         20.00000\n",
       "25%         35.00000\n",
       "50%         69.00000\n",
       "75%        156.00000\n",
       "max       7359.00000\n",
       "Name: rating, dtype: float64"
      ]
     },
     "execution_count": 220,
     "metadata": {},
     "output_type": "execute_result"
    }
   ],
   "source": [
    "no_of_rated_movies_per_user.describe()"
   ]
  },
  {
   "cell_type": "markdown",
   "metadata": {},
   "source": [
    "We could find that a very few number of users has actually rated most of the movies<br>\n",
    "It could also be seen that there is a massive leap between 3rd and the 4th quantile"
   ]
  },
  {
   "cell_type": "code",
   "execution_count": 221,
   "metadata": {},
   "outputs": [],
   "source": [
    "quantiles = no_of_rated_movies_per_user.quantile(np.arange(0,1.01,0.01))"
   ]
  },
  {
   "cell_type": "code",
   "execution_count": 222,
   "metadata": {},
   "outputs": [
    {
     "data": {
      "image/png": "[encoded data removed]",
      "text/plain": [
       "<Figure size 1080x432 with 1 Axes>"
      ]
     },
     "metadata": {},
     "output_type": "display_data"
    }
   ],
   "source": [
    "fig = plt.figure(figsize=(15,6))\n",
    "plt.title(\"Quantiles and their Values\")\n",
    "quantiles.plot()\n",
    "plt.scatter(x=quantiles.index[::5], y=quantiles.values[::5], c='orange', label=\"quantiles with 0.05 intervals\")\n",
    "plt.scatter(x=quantiles.index[::25], y=quantiles.values[::25], c='m', label = \"quantiles with 0.25 intervals\")\n",
    "plt.ylabel('No of ratings by user')\n",
    "plt.xlabel('Value at the quantile')\n",
    "plt.legend(loc='best')\n",
    "\n",
    "# annotate the 25th, 50th, 75th and 100th percentile values....\n",
    "for x,y in zip(quantiles.index[::25], quantiles[::25]):\n",
    "    plt.annotate(s=\"({} , {})\".format(x,y), xy=(x,y), xytext=(x-0.05, y+500)\n",
    "                ,fontweight='bold')\n",
    "\n",
    "plt.grid()\n",
    "plt.show()"
   ]
  },
  {
   "cell_type": "markdown",
   "metadata": {},
   "source": [
    "As we can see that, just between 0.9 and 1, there is a steep rise in rating"
   ]
  },
  {
   "cell_type": "code",
   "execution_count": 36,
   "metadata": {},
   "outputs": [
    {
     "data": {
      "text/plain": [
       "0.00      20.0\n",
       "0.05      22.0\n",
       "0.10      24.0\n",
       "0.15      28.0\n",
       "0.20      31.0\n",
       "0.25      35.0\n",
       "0.30      40.0\n",
       "0.35      46.0\n",
       "0.40      52.0\n",
       "0.45      60.0\n",
       "0.50      69.0\n",
       "0.55      80.0\n",
       "0.60      94.0\n",
       "0.65     109.0\n",
       "0.70     129.0\n",
       "0.75     156.0\n",
       "0.80     195.0\n",
       "0.85     248.0\n",
       "0.90     335.0\n",
       "0.95     512.0\n",
       "1.00    7359.0\n",
       "Name: rating, dtype: float64"
      ]
     },
     "execution_count": 36,
     "metadata": {},
     "output_type": "execute_result"
    }
   ],
   "source": [
    "quantiles[::5]"
   ]
  },
  {
   "cell_type": "code",
   "execution_count": 223,
   "metadata": {},
   "outputs": [
    {
     "name": "stdout",
     "output_type": "stream",
     "text": [
      "\n",
      " No of ratings at last 5 percentile : 1634\n",
      "\n"
     ]
    }
   ],
   "source": [
    "print('\\n No of ratings at last 5 percentile : {}\\n'.format(sum(no_of_rated_movies_per_user>= 749)))"
   ]
  },
  {
   "cell_type": "code",
   "execution_count": 26,
   "metadata": {},
   "outputs": [
    {
     "data": {
      "image/png": "[encoded data removed]",
      "text/plain": [
       "<Figure size 1080x432 with 1 Axes>"
      ]
     },
     "metadata": {},
     "output_type": "display_data"
    }
   ],
   "source": [
    "no_of_ratings_per_movie = data.groupby(by='movieid')['rating'].count().sort_values(ascending=False)\n",
    "\n",
    "fig = plt.figure(figsize=(15,6))\n",
    "ax = plt.gca()\n",
    "plt.plot(no_of_ratings_per_movie.values)\n",
    "plt.title('# RATINGS per Movie')\n",
    "plt.xlabel('Movie')\n",
    "plt.ylabel('No of Users who rated a movie')\n",
    "ax.set_xticklabels([])\n",
    "plt.grid()\n",
    "plt.show()"
   ]
  },
  {
   "cell_type": "code",
   "execution_count": 8,
   "metadata": {},
   "outputs": [
    {
     "data": {
      "image/png": "[encoded data removed]",
      "text/plain": [
       "<Figure size 1080x432 with 1 Axes>"
      ]
     },
     "metadata": {},
     "output_type": "display_data"
    }
   ],
   "source": [
    "quantiles = no_of_ratings_per_movie.quantile(np.arange(0,1.01,0.01))\n",
    "\n",
    "fig = plt.figure(figsize=(15,6))\n",
    "quantiles.plot()\n",
    "plt.scatter(x=quantiles.index[::5], y=quantiles.values[::5], c='orange', label=\"quantiles with 0.05 intervals\")\n",
    "plt.scatter(x=quantiles.index[::25], y=quantiles.values[::25], c='m', label = \"quantiles with 0.25 intervals\")\n",
    "plt.ylabel('No of Users who rated a movie')\n",
    "plt.xlabel('Value at the quantile')\n",
    "plt.legend(loc='best')\n",
    "plt.title(\"Quantiles and their Values\",size=14)\n",
    "# annotate the 25th, 50th, 75th and 100th percentile values....\n",
    "for x,y in zip(quantiles.index[::25], quantiles[::25]):\n",
    "    plt.annotate(s=\"({} , {})\".format(x,y), xy=(x,y), xytext=(x-0.05, y+500)\n",
    "                ,fontweight='bold')\n",
    "\n",
    "plt.grid()\n",
    "plt.show()"
   ]
  },
  {
   "cell_type": "markdown",
   "metadata": {},
   "source": [
    "## Splitting data and making sparse matrix"
   ]
  },
  {
   "cell_type": "code",
   "execution_count": 67,
   "metadata": {},
   "outputs": [],
   "source": [
    "data.dropna(inplace=True)"
   ]
  },
  {
   "cell_type": "code",
   "execution_count": 68,
   "metadata": {},
   "outputs": [],
   "source": [
    "train_df,test_df = train_test_split(data, test_size=0.30, random_state=42)"
   ]
  },
  {
   "cell_type": "code",
   "execution_count": 73,
   "metadata": {},
   "outputs": [],
   "source": [
    "# Creating train sparse matrix\n",
    "train_sparse_matrix = scipy.sparse.csr_matrix((train_df.rating.values,\n",
    "                                               (train_df.userid.values.astype(int),\n",
    "                                                train_df.movieid.values.astype(int)),))"
   ]
  },
  {
   "cell_type": "code",
   "execution_count": 74,
   "metadata": {},
   "outputs": [],
   "source": [
    "# Saving the data\n",
    "scipy.sparse.save_npz(\"train_sparse_matrix.npz\", train_sparse_matrix)"
   ]
  },
  {
   "cell_type": "code",
   "execution_count": 77,
   "metadata": {},
   "outputs": [],
   "source": [
    "# Creating the test data\n",
    "test_sparse_matrix = scipy.sparse.csr_matrix((test_df.rating.values, (test_df.userid.values.astype(int),\n",
    "                                               test_df.movieid.values.astype(int))))"
   ]
  },
  {
   "cell_type": "code",
   "execution_count": 78,
   "metadata": {},
   "outputs": [],
   "source": [
    "scipy.sparse.save_npz(\"test_sparse_matrix.npz\", test_sparse_matrix)"
   ]
  },
  {
   "cell_type": "markdown",
   "metadata": {},
   "source": [
    "## Analysis"
   ]
  },
  {
   "cell_type": "code",
   "execution_count": 171,
   "metadata": {},
   "outputs": [
    {
     "data": {
      "image/png": "[encoded data removed]",
      "text/plain": [
       "<Figure size 1080x360 with 1 Axes>"
      ]
     },
     "metadata": {},
     "output_type": "display_data"
    }
   ],
   "source": [
    "cm_rtg = data.groupby('movie').rating.sum()\n",
    "cm_rtg = cm_rtg.sort_values(ascending=False)[:20]\n",
    "idx = cm_rtg.index.tolist() # Get sorted book titles\n",
    "vals = cm_rtg.values.tolist() # Get corresponding cm_rtg values\n",
    "\n",
    "plt.figure(figsize=(15, 5))\n",
    "sns.barplot(idx, vals)\n",
    "plt.xticks(range(len(idx)), idx, rotation=90)\n",
    "plt.ylabel('cumulative rating score')\n",
    "plt.show()"
   ]
  },
  {
   "cell_type": "code",
   "execution_count": 127,
   "metadata": {},
   "outputs": [
    {
     "data": {
      "text/plain": [
       "movie\n",
       "Shawshank Redemption, The (1994)                 4.457238\n",
       "Godfather, The (1972)                            4.415085\n",
       "Usual Suspects, The (1995)                       4.367142\n",
       "Schindler's List (1993)                          4.363483\n",
       "Sunset Blvd. (a.k.a. Sunset Boulevard) (1950)    4.321966\n",
       "Casablanca (1942)                                4.319741\n",
       "Rear Window (1954)                               4.316544\n",
       "Double Indemnity (1944)                          4.315439\n",
       "Seven Samurai (Shichinin no samurai) (1954)      4.314119\n",
       "Third Man, The (1949)                            4.313629\n",
       "Name: rating, dtype: float64"
      ]
     },
     "execution_count": 127,
     "metadata": {},
     "output_type": "execute_result"
    }
   ],
   "source": [
    "cutoff = data.movie.value_counts()\n",
    "mean_rtg = data[data.movie.isin(cutoff[cutoff>50].index)].groupby('movie')['rating'].mean()\n",
    "mean_rtg.sort_values(ascending=False)[:10] # show only top 10"
   ]
  },
  {
   "cell_type": "code",
   "execution_count": 128,
   "metadata": {
    "scrolled": true
   },
   "outputs": [
    {
     "data": {
      "text/plain": [
       "movie\n",
       "Bratz: The Movie (2007)                                 1.269231\n",
       "Faces of Death 6 (1996)                                 1.239362\n",
       "Pokemon 4 Ever (a.k.a. PokÃ©mon 4: The Movie) (2002)    1.175966\n",
       "Barney's Great Adventure (1998)                         1.175214\n",
       "Gigli (2003)                                            1.174716\n",
       "Glitter (2001)                                          1.167105\n",
       "Carnosaur 3: Primal Species (1996)                      1.120253\n",
       "PokÃ©mon Heroes (2003)                                  1.009615\n",
       "From Justin to Kelly (2003)                             0.923611\n",
       "SuperBabies: Baby Geniuses 2 (2004)                     0.803279\n",
       "Name: rating, dtype: float64"
      ]
     },
     "execution_count": 128,
     "metadata": {},
     "output_type": "execute_result"
    }
   ],
   "source": [
    "mean_rtg.sort_values(ascending=False)[-10:] # Lowest Rated Movies"
   ]
  },
  {
   "cell_type": "code",
   "execution_count": 135,
   "metadata": {},
   "outputs": [
    {
     "data": {
      "image/png": "[encoded data removed]",
      "text/plain": [
       "<Figure size 720x360 with 1 Axes>"
      ]
     },
     "metadata": {},
     "output_type": "display_data"
    }
   ],
   "source": [
    "rtg = data.rating.value_counts().sort_index()\n",
    "\n",
    "plt.figure(figsize=(10, 5))\n",
    "sns.barplot(rtg.index, rtg.values)\n",
    "plt.xlabel('Rating')\n",
    "plt.ylabel('counts')\n",
    "plt.grid()\n",
    "plt.show()"
   ]
  },
  {
   "cell_type": "markdown",
   "metadata": {},
   "source": [
    "# Collaborative Filtering"
   ]
  },
  {
   "cell_type": "code",
   "execution_count": 2,
   "metadata": {},
   "outputs": [],
   "source": [
    "train_sparse_matrix = scipy.sparse.load_npz(\"train_sparse_matrix.npz\")\n",
    "test_sparse_matrix = scipy.sparse.load_npz(\"test_sparse_matrix.npz\")"
   ]
  },
  {
   "cell_type": "code",
   "execution_count": 3,
   "metadata": {},
   "outputs": [],
   "source": [
    "# Due to lack of computation power reducing the data size\n",
    "train_matrix_small = train_sparse_matrix[:10000, :10000]\n",
    "test_matrix_small = test_sparse_matrix[:10000, :10000]\n",
    "\n",
    "# Calculating cosine similarity between the items i.e movies\n",
    "item_similarity = pairwise_distances(train_matrix_small.T, metric='cosine')"
   ]
  },
  {
   "cell_type": "markdown",
   "metadata": {},
   "source": [
    "**Prediction:**<br>\n",
    "\n",
    "<br>Every rating is multiplied by the similarity factor of the user who gave the rating. The final predicted rating by user U will be equal to the sum of the weighted ratings divided by the sum of the weights*"
   ]
  },
  {
   "cell_type": "code",
   "execution_count": 4,
   "metadata": {},
   "outputs": [],
   "source": [
    "def predict(ratings, similarity):\n",
    "    return ratings.dot(similarity) / np.array([np.abs(similarity).sum(axis=1)])"
   ]
  },
  {
   "cell_type": "code",
   "execution_count": 42,
   "metadata": {},
   "outputs": [],
   "source": [
    "item_prediction = predict(test_matrix_small, item_similarity)"
   ]
  },
  {
   "cell_type": "code",
   "execution_count": 43,
   "metadata": {},
   "outputs": [
    {
     "name": "stdout",
     "output_type": "stream",
     "text": [
      "Item-based CF RMSE: 3.6357061296023954\n"
     ]
    }
   ],
   "source": [
    "def rmse(prediction, test_matrix):\n",
    "    prediction = prediction[test_matrix.nonzero()].flatten()\n",
    "    test_matrix = test_matrix[test_matrix.nonzero()].flatten().A1\n",
    "    return sqrt(mean_squared_error(prediction, test_matrix))\n",
    "\n",
    "print(f'Item-based CF RMSE: {rmse(item_prediction, test_matrix_small)}')"
   ]
  },
  {
   "cell_type": "markdown",
   "metadata": {},
   "source": [
    "**We see that the RootMeanSquareError for our CF model on item item similarity is ~3.635**"
   ]
  },
  {
   "cell_type": "markdown",
   "metadata": {},
   "source": [
    "*Although we are getting a RMSE of ~3.63 (MSE: ~13.22), we would try with Matrix factorization technique*"
   ]
  },
  {
   "cell_type": "markdown",
   "metadata": {},
   "source": [
    "# Matrix Factorization"
   ]
  },
  {
   "cell_type": "markdown",
   "metadata": {},
   "source": [
    "We would use Surprise Library in making our model"
   ]
  },
  {
   "cell_type": "code",
   "execution_count": 2,
   "metadata": {},
   "outputs": [],
   "source": [
    "def get_ratings(predictions):\n",
    "    actual = np.array([pred.r_ui for pred in predictions]) # 'r_ui' gives the actual rating for the individual prediction\n",
    "    pred = np.array([pred.est for pred in predictions]) # 'est' gives the estimate rating for the individual prediction\n",
    "    return actual, pred\n",
    "\n",
    "def get_errors(predictions):\n",
    "# MAPE helps us in understanding how well is our model performing\n",
    "    actual, pred = get_ratings(predictions)\n",
    "    rmse = np.sqrt(np.mean((pred - actual)**2))\n",
    "    mape = np.mean(np.abs(pred - actual)/actual) # MAPE is the percentage of deviation from the actual prediction.\n",
    "    return rmse, mape*100 "
   ]
  },
  {
   "cell_type": "code",
   "execution_count": 3,
   "metadata": {},
   "outputs": [
    {
     "data": {
      "text/html": [
       "<div>\n",
       "<style scoped>\n",
       "    .dataframe tbody tr th:only-of-type {\n",
       "        vertical-align: middle;\n",
       "    }\n",
       "\n",
       "    .dataframe tbody tr th {\n",
       "        vertical-align: top;\n",
       "    }\n",
       "\n",
       "    .dataframe thead th {\n",
       "        text-align: right;\n",
       "    }\n",
       "</style>\n",
       "<table border=\"1\" class=\"dataframe\">\n",
       "  <thead>\n",
       "    <tr style=\"text-align: right;\">\n",
       "      <th></th>\n",
       "      <th>userid</th>\n",
       "      <th>movieid</th>\n",
       "      <th>rating</th>\n",
       "      <th>timestamp</th>\n",
       "      <th>movie</th>\n",
       "      <th>genre</th>\n",
       "    </tr>\n",
       "  </thead>\n",
       "  <tbody>\n",
       "    <tr>\n",
       "      <th>0</th>\n",
       "      <td>1.0</td>\n",
       "      <td>122</td>\n",
       "      <td>5.0</td>\n",
       "      <td>8.389850e+08</td>\n",
       "      <td>Boomerang (1992)</td>\n",
       "      <td>Comedy|Romance</td>\n",
       "    </tr>\n",
       "    <tr>\n",
       "      <th>1</th>\n",
       "      <td>139.0</td>\n",
       "      <td>122</td>\n",
       "      <td>3.0</td>\n",
       "      <td>9.743026e+08</td>\n",
       "      <td>Boomerang (1992)</td>\n",
       "      <td>Comedy|Romance</td>\n",
       "    </tr>\n",
       "    <tr>\n",
       "      <th>2</th>\n",
       "      <td>149.0</td>\n",
       "      <td>122</td>\n",
       "      <td>2.5</td>\n",
       "      <td>1.112342e+09</td>\n",
       "      <td>Boomerang (1992)</td>\n",
       "      <td>Comedy|Romance</td>\n",
       "    </tr>\n",
       "    <tr>\n",
       "      <th>3</th>\n",
       "      <td>182.0</td>\n",
       "      <td>122</td>\n",
       "      <td>3.0</td>\n",
       "      <td>9.434588e+08</td>\n",
       "      <td>Boomerang (1992)</td>\n",
       "      <td>Comedy|Romance</td>\n",
       "    </tr>\n",
       "    <tr>\n",
       "      <th>4</th>\n",
       "      <td>215.0</td>\n",
       "      <td>122</td>\n",
       "      <td>4.5</td>\n",
       "      <td>1.102494e+09</td>\n",
       "      <td>Boomerang (1992)</td>\n",
       "      <td>Comedy|Romance</td>\n",
       "    </tr>\n",
       "  </tbody>\n",
       "</table>\n",
       "</div>"
      ],
      "text/plain": [
       "   userid  movieid  rating     timestamp             movie           genre\n",
       "0     1.0      122     5.0  8.389850e+08  Boomerang (1992)  Comedy|Romance\n",
       "1   139.0      122     3.0  9.743026e+08  Boomerang (1992)  Comedy|Romance\n",
       "2   149.0      122     2.5  1.112342e+09  Boomerang (1992)  Comedy|Romance\n",
       "3   182.0      122     3.0  9.434588e+08  Boomerang (1992)  Comedy|Romance\n",
       "4   215.0      122     4.5  1.102494e+09  Boomerang (1992)  Comedy|Romance"
      ]
     },
     "execution_count": 3,
     "metadata": {},
     "output_type": "execute_result"
    }
   ],
   "source": [
    "data = pd.read_pickle('data.pkl')\n",
    "data.head()"
   ]
  },
  {
   "cell_type": "markdown",
   "metadata": {},
   "source": [
    "## Overview with Cross Validation, with a small data"
   ]
  },
  {
   "cell_type": "code",
   "execution_count": null,
   "metadata": {},
   "outputs": [],
   "source": [
    "train,test = train_test_split(data[['userid','movieid','rating']][:100000],test_size=0.30, random_state=42)"
   ]
  },
  {
   "cell_type": "code",
   "execution_count": null,
   "metadata": {},
   "outputs": [],
   "source": [
    "# Building data to run in our SVD model\n",
    "reader = Reader(rating_scale=(1, 10))\n",
    "train = Dataset.load_from_df(train, reader)"
   ]
  },
  {
   "cell_type": "code",
   "execution_count": 83,
   "metadata": {
    "scrolled": true
   },
   "outputs": [
    {
     "name": "stdout",
     "output_type": "stream",
     "text": [
      "Estimating biases using als...\n",
      "Computing the msd similarity matrix...\n",
      "Done computing similarity matrix.\n",
      "Estimating biases using als...\n",
      "Computing the msd similarity matrix...\n",
      "Done computing similarity matrix.\n",
      "Estimating biases using als...\n",
      "Computing the msd similarity matrix...\n",
      "Done computing similarity matrix.\n",
      "Computing the msd similarity matrix...\n",
      "Done computing similarity matrix.\n",
      "Computing the msd similarity matrix...\n",
      "Done computing similarity matrix.\n",
      "Computing the msd similarity matrix...\n",
      "Done computing similarity matrix.\n",
      "Computing the msd similarity matrix...\n",
      "Done computing similarity matrix.\n",
      "Computing the msd similarity matrix...\n",
      "Done computing similarity matrix.\n",
      "Computing the msd similarity matrix...\n",
      "Done computing similarity matrix.\n",
      "Computing the msd similarity matrix...\n",
      "Done computing similarity matrix.\n",
      "Computing the msd similarity matrix...\n",
      "Done computing similarity matrix.\n",
      "Computing the msd similarity matrix...\n",
      "Done computing similarity matrix.\n",
      "Estimating biases using als...\n",
      "Estimating biases using als...\n",
      "Estimating biases using als...\n"
     ]
    },
    {
     "data": {
      "text/html": [
       "<div>\n",
       "<style scoped>\n",
       "    .dataframe tbody tr th:only-of-type {\n",
       "        vertical-align: middle;\n",
       "    }\n",
       "\n",
       "    .dataframe tbody tr th {\n",
       "        vertical-align: top;\n",
       "    }\n",
       "\n",
       "    .dataframe thead th {\n",
       "        text-align: right;\n",
       "    }\n",
       "</style>\n",
       "<table border=\"1\" class=\"dataframe\">\n",
       "  <thead>\n",
       "    <tr style=\"text-align: right;\">\n",
       "      <th></th>\n",
       "      <th>test_rmse</th>\n",
       "      <th>fit_time</th>\n",
       "      <th>test_time</th>\n",
       "    </tr>\n",
       "    <tr>\n",
       "      <th>Algorithm</th>\n",
       "      <th></th>\n",
       "      <th></th>\n",
       "      <th></th>\n",
       "    </tr>\n",
       "  </thead>\n",
       "  <tbody>\n",
       "    <tr>\n",
       "      <th>KNNBaseline</th>\n",
       "      <td>0.981002</td>\n",
       "      <td>8.387692</td>\n",
       "      <td>3.341756</td>\n",
       "    </tr>\n",
       "    <tr>\n",
       "      <th>BaselineOnly</th>\n",
       "      <td>0.983619</td>\n",
       "      <td>0.095981</td>\n",
       "      <td>0.068442</td>\n",
       "    </tr>\n",
       "    <tr>\n",
       "      <th>KNNBasic</th>\n",
       "      <td>0.985636</td>\n",
       "      <td>9.413795</td>\n",
       "      <td>3.712410</td>\n",
       "    </tr>\n",
       "    <tr>\n",
       "      <th>SVDpp</th>\n",
       "      <td>0.987024</td>\n",
       "      <td>1.689994</td>\n",
       "      <td>0.059572</td>\n",
       "    </tr>\n",
       "    <tr>\n",
       "      <th>SVD</th>\n",
       "      <td>0.989732</td>\n",
       "      <td>0.984580</td>\n",
       "      <td>0.052671</td>\n",
       "    </tr>\n",
       "    <tr>\n",
       "      <th>KNNWithZScore</th>\n",
       "      <td>0.996766</td>\n",
       "      <td>11.737726</td>\n",
       "      <td>4.237967</td>\n",
       "    </tr>\n",
       "    <tr>\n",
       "      <th>KNNWithMeans</th>\n",
       "      <td>0.998636</td>\n",
       "      <td>15.023931</td>\n",
       "      <td>5.761219</td>\n",
       "    </tr>\n",
       "    <tr>\n",
       "      <th>SlopeOne</th>\n",
       "      <td>1.022262</td>\n",
       "      <td>0.149379</td>\n",
       "      <td>0.056338</td>\n",
       "    </tr>\n",
       "    <tr>\n",
       "      <th>NMF</th>\n",
       "      <td>1.028983</td>\n",
       "      <td>2.029819</td>\n",
       "      <td>0.047918</td>\n",
       "    </tr>\n",
       "    <tr>\n",
       "      <th>CoClustering</th>\n",
       "      <td>1.030197</td>\n",
       "      <td>1.886590</td>\n",
       "      <td>0.048707</td>\n",
       "    </tr>\n",
       "    <tr>\n",
       "      <th>NormalPredictor</th>\n",
       "      <td>1.388400</td>\n",
       "      <td>0.031334</td>\n",
       "      <td>0.062338</td>\n",
       "    </tr>\n",
       "  </tbody>\n",
       "</table>\n",
       "</div>"
      ],
      "text/plain": [
       "                 test_rmse   fit_time  test_time\n",
       "Algorithm                                       \n",
       "KNNBaseline       0.981002   8.387692   3.341756\n",
       "BaselineOnly      0.983619   0.095981   0.068442\n",
       "KNNBasic          0.985636   9.413795   3.712410\n",
       "SVDpp             0.987024   1.689994   0.059572\n",
       "SVD               0.989732   0.984580   0.052671\n",
       "KNNWithZScore     0.996766  11.737726   4.237967\n",
       "KNNWithMeans      0.998636  15.023931   5.761219\n",
       "SlopeOne          1.022262   0.149379   0.056338\n",
       "NMF               1.028983   2.029819   0.047918\n",
       "CoClustering      1.030197   1.886590   0.048707\n",
       "NormalPredictor   1.388400   0.031334   0.062338"
      ]
     },
     "execution_count": 83,
     "metadata": {},
     "output_type": "execute_result"
    }
   ],
   "source": [
    "benchmark = []\n",
    "# Iterate over all algorithms\n",
    "for algorithm in [SVD(), SVDpp(), SlopeOne(), NMF(), NormalPredictor(), KNNBaseline(), KNNBasic(), KNNWithMeans(), KNNWithZScore(), BaselineOnly(), CoClustering()]:\n",
    "    # Perform cross validation\n",
    "    results = model_selection.cross_validate(algorithm, train, measures=['RMSE'], cv=3, verbose=False)\n",
    "    \n",
    "    # Get results & append algorithm name\n",
    "    tmp = pd.DataFrame.from_dict(results).mean(axis=0)\n",
    "    tmp = tmp.append(pd.Series([str(algorithm).split(' ')[0].split('.')[-1]], index=['Algorithm']))\n",
    "    benchmark.append(tmp)\n",
    "    \n",
    "pd.DataFrame(benchmark).set_index('Algorithm').sort_values('test_rmse') "
   ]
  },
  {
   "cell_type": "markdown",
   "metadata": {},
   "source": [
    "## BaselineOnly Model"
   ]
  },
  {
   "cell_type": "markdown",
   "metadata": {},
   "source": [
    "$ \\large {\\hat{r}_{ui} = \\mu + b_u + b_i} $\n",
    "\n",
    "\n",
    "- $\\pmb \\mu $ : Global Average of all ratings\n",
    "- $\\pmb b_u$ : It is a user Bias, which is learned by optimization\n",
    "- $\\pmb b_i$ : It is a item Bias, which is learned by optimization\n",
    "\n",
    "**Optimization**\n",
    "\n",
    "$ \\sum_{r_{ui} \\in R_{train}} \\left(r_{ui} - (\\mu + b_u + b_i)\\right)^2 +\n",
    "\\lambda \\left(b_u^2 + b_i^2 \\right).\\text {        [mimimize } {b_u, b_i]}$ "
   ]
  },
  {
   "cell_type": "code",
   "execution_count": 97,
   "metadata": {},
   "outputs": [],
   "source": [
    "train,test = train_test_split(data[['userid','movieid','rating']][:1000000],test_size=0.30, random_state=42)"
   ]
  },
  {
   "cell_type": "code",
   "execution_count": 98,
   "metadata": {},
   "outputs": [],
   "source": [
    "# Building data to run in our BaselineOnly model\n",
    "reader = Reader(rating_scale=(1, 10))\n",
    "train = Dataset.load_from_df(train, reader)\n",
    "train = train.build_full_trainset()\n",
    "test = list(zip(test.userid.values, test.movieid.values, test.rating.values)) # Building testset as a user, movie, rating tuple"
   ]
  },
  {
   "cell_type": "code",
   "execution_count": 99,
   "metadata": {
    "scrolled": true
   },
   "outputs": [
    {
     "name": "stdout",
     "output_type": "stream",
     "text": [
      "Estimating biases using sgd...\n",
      "RMSE: 0.9451\n"
     ]
    },
    {
     "data": {
      "text/plain": [
       "0.9450845116406147"
      ]
     },
     "execution_count": 99,
     "metadata": {},
     "output_type": "execute_result"
    }
   ],
   "source": [
    "bsl_options = {'method': 'sgd',\n",
    "               'learning_rate': .00005,\n",
    "               }\n",
    "model = BaselineOnly(bsl_options=bsl_options)\n",
    "\n",
    "# Train the algorithm on the training set, and predict ratings for the test set\n",
    "model.fit(train)\n",
    "predictions = model.test(test)\n",
    "\n",
    "# Then compute RMSE\n",
    "accuracy.rmse(predictions)"
   ]
  },
  {
   "cell_type": "code",
   "execution_count": 100,
   "metadata": {},
   "outputs": [
    {
     "name": "stdout",
     "output_type": "stream",
     "text": [
      "BaselineOnly Model Details: \n",
      "RSME:  0.9450845116406147\n",
      "MAPE: 30.550386070177883 %\n"
     ]
    }
   ],
   "source": [
    "# Checking accuracy\n",
    "rsme,mape = get_errors(predictions)\n",
    "print(\"BaselineOnly Model Details: \")\n",
    "print(\"RSME: \", rsme)\n",
    "print(f\"MAPE: {mape} %\")"
   ]
  },
  {
   "cell_type": "markdown",
   "metadata": {},
   "source": [
    "## SVD Model"
   ]
  },
  {
   "cell_type": "markdown",
   "metadata": {},
   "source": [
    "- $ \\large  \\hat r_{ui} = \\mu + b_u + b_i + q_i^Tp_u $\n",
    "\n",
    "- $\\pmb q_i$ - Item Rating Vector\n",
    "\n",
    "- $\\pmb p_u$ - User Rating Vector"
   ]
  },
  {
   "cell_type": "markdown",
   "metadata": {},
   "source": [
    "**Optimization**\n",
    "\n",
    "- $\\large \\sum_{r_{ui} \\in R_{train}} \\left(r_{ui} - \\hat{r}_{ui} \\right)^2 +\n",
    "\\lambda\\left(b_i^2 + b_u^2 + ||q_i||^2 + ||p_u||^2\\right) $"
   ]
  },
  {
   "cell_type": "code",
   "execution_count": 101,
   "metadata": {},
   "outputs": [],
   "source": [
    "train,test = train_test_split(data[['userid','movieid','rating']][:1000000],test_size=0.30, random_state=42)"
   ]
  },
  {
   "cell_type": "code",
   "execution_count": 102,
   "metadata": {},
   "outputs": [],
   "source": [
    "# Building data to run in our SVD model\n",
    "reader = Reader(rating_scale=(1, 10))\n",
    "train = Dataset.load_from_df(train, reader)\n",
    "train = train.build_full_trainset()\n",
    "test = list(zip(test.userid.values, test.movieid.values, test.rating.values)) # Building testset as a user, movie, rating tuple"
   ]
  },
  {
   "cell_type": "code",
   "execution_count": 103,
   "metadata": {},
   "outputs": [
    {
     "name": "stdout",
     "output_type": "stream",
     "text": [
      "Processing epoch 0\n",
      "Processing epoch 1\n",
      "Processing epoch 2\n",
      "Processing epoch 3\n",
      "Processing epoch 4\n",
      "Processing epoch 5\n",
      "Processing epoch 6\n",
      "Processing epoch 7\n",
      "Processing epoch 8\n",
      "Processing epoch 9\n",
      "Processing epoch 10\n",
      "Processing epoch 11\n",
      "Processing epoch 12\n",
      "Processing epoch 13\n",
      "Processing epoch 14\n",
      "Processing epoch 15\n",
      "Processing epoch 16\n",
      "Processing epoch 17\n",
      "Processing epoch 18\n",
      "Processing epoch 19\n",
      "RMSE: 0.8641\n"
     ]
    },
    {
     "data": {
      "text/plain": [
       "0.864146817608804"
      ]
     },
     "execution_count": 103,
     "metadata": {},
     "output_type": "execute_result"
    }
   ],
   "source": [
    "model = SVD(n_factors=100, biased=True,verbose=True)\n",
    "\n",
    "# Train the algorithm on the training set, and predict ratings for the test set\n",
    "model.fit(train)\n",
    "predictions = model.test(test)\n",
    "\n",
    "# Then compute RMSE\n",
    "accuracy.rmse(predictions)"
   ]
  },
  {
   "cell_type": "code",
   "execution_count": 104,
   "metadata": {},
   "outputs": [
    {
     "name": "stdout",
     "output_type": "stream",
     "text": [
      "RSME:  0.864146817608804\n",
      "MAPE: 26.877594517709095 %\n"
     ]
    }
   ],
   "source": [
    "# Checking accuracy\n",
    "rsme,mape = get_errors(predictions)\n",
    "print(\"RSME: \", rsme)\n",
    "print(f\"MAPE: {mape} %\")"
   ]
  },
  {
   "cell_type": "markdown",
   "metadata": {},
   "source": [
    "We can find a significance improvement in our model predictive power.<br>\n",
    "From ~3.6 to ~0.86<br>\n",
    "Also with more data, our model seems to be performing much better than our BaselineOnly Model"
   ]
  },
  {
   "cell_type": "markdown",
   "metadata": {},
   "source": [
    "## KNNBaseline"
   ]
  },
  {
   "cell_type": "markdown",
   "metadata": {},
   "source": [
    "\\begin{align} \\hat{r}_{ui} = b_{ui} + \\frac{ \\sum\\limits_{v \\in N^k_i(u)}\n",
    "\\text{sim}(u, v) \\cdot (r_{vi} - b_{vi})} {\\sum\\limits_{v \\in\n",
    "N^k_i(u)} \\text{sim}(u, v)} \\end{align}\n",
    "\n",
    "- $\\pmb{b_{ui}}$ -  _Baseline prediction_ of (user,movie) rating\n",
    "\n",
    "- $ \\pmb {N_i^k (u)}$ - Set of __K similar__ users (neighbours) of __user (u)__ who rated __movie(i)__  \n",
    "\n",
    "- _sim (u, v)_ - The Similarity could be any as per our requirement and model performance"
   ]
  },
  {
   "cell_type": "code",
   "execution_count": 7,
   "metadata": {},
   "outputs": [],
   "source": [
    "# Due to limitation in computation power I had to try KNNBaseline on a smaller dataset\n",
    "# KNN is performing very well in our primary test, but due to lack of computational power, it could not be cultivated more\n",
    "train,test = train_test_split(data[['userid','movieid','rating']][:40000],test_size=0.30, random_state=42)"
   ]
  },
  {
   "cell_type": "code",
   "execution_count": 8,
   "metadata": {},
   "outputs": [],
   "source": [
    "# Building data to run in our KNNBaseline model\n",
    "reader = Reader(rating_scale=(1, 10))\n",
    "train = Dataset.load_from_df(train, reader)\n",
    "train = train.build_full_trainset()\n",
    "test = list(zip(test.userid.values, test.movieid.values, test.rating.values)) # Building testset as a user, movie, rating tuple"
   ]
  },
  {
   "cell_type": "code",
   "execution_count": 9,
   "metadata": {},
   "outputs": [
    {
     "name": "stdout",
     "output_type": "stream",
     "text": [
      "Estimating biases using sgd...\n",
      "Computing the pearson_baseline similarity matrix...\n",
      "Done computing similarity matrix.\n",
      "RMSE: 1.0510\n"
     ]
    },
    {
     "data": {
      "text/plain": [
       "1.0509504218005863"
      ]
     },
     "execution_count": 9,
     "metadata": {},
     "output_type": "execute_result"
    }
   ],
   "source": [
    "sim_options = {'user_based' : True,\n",
    "               'shrinkage': 100,\n",
    "               'min_support': 2\n",
    "              } \n",
    "# we keep other parameters like regularization parameter and learning_rate as default values.\n",
    "bsl_options = {'method': 'sgd'} \n",
    "\n",
    "model = KNNBaseline(k=40, sim_options = sim_options, bsl_options = bsl_options)\n",
    "# Train the algorithm on the training set, and predict ratings for the test set\n",
    "model.fit(train)\n",
    "predictions = model.test(test)\n",
    "\n",
    "# RMSE\n",
    "accuracy.rmse(predictions)"
   ]
  },
  {
   "cell_type": "code",
   "execution_count": 10,
   "metadata": {},
   "outputs": [
    {
     "name": "stdout",
     "output_type": "stream",
     "text": [
      "RSME:  1.0509504218005863\n",
      "MAPE: 42.06229073714839 %\n"
     ]
    }
   ],
   "source": [
    "# Checking accuracy\n",
    "rsme,mape = get_errors(predictions)\n",
    "print(\"RSME: \", rsme)\n",
    "print(f\"MAPE: {mape} %\")"
   ]
  },
  {
   "cell_type": "markdown",
   "metadata": {},
   "source": [
    "## SVDPP"
   ]
  },
  {
   "cell_type": "markdown",
   "metadata": {},
   "source": [
    "- $ \\large \\hat{r}_{ui} = \\mu + b_u + b_i + q_i^T\\left(p_u +\n",
    "|I_u|^{-\\frac{1}{2}} \\sum_{j \\in I_u}y_j\\right) $ "
   ]
  },
  {
   "cell_type": "markdown",
   "metadata": {},
   "source": [
    "- $ \\pmb{I_u}$ --- the set of all items rated by user u\n",
    "\n",
    "- $\\pmb{y_j}$ --- Our new set of item factors that capture implicit ratings.  "
   ]
  },
  {
   "cell_type": "markdown",
   "metadata": {},
   "source": [
    "- $ \\large \\sum_{r_{ui} \\in R_{train}} \\left(r_{ui} - \\hat{r}_{ui} \\right)^2 +\n",
    "\\lambda\\left(b_i^2 + b_u^2 + ||q_i||^2 + ||p_u||^2 + ||y_j||^2\\right) $ "
   ]
  },
  {
   "cell_type": "code",
   "execution_count": 19,
   "metadata": {},
   "outputs": [],
   "source": [
    "train,test = train_test_split(data[['userid','movieid','rating']][:1000000],test_size=0.30, random_state=42)"
   ]
  },
  {
   "cell_type": "code",
   "execution_count": 20,
   "metadata": {},
   "outputs": [],
   "source": [
    "# Building data to run in our SVDPP model\n",
    "reader = Reader(rating_scale=(1, 10))\n",
    "train = Dataset.load_from_df(train, reader)\n",
    "train = train.build_full_trainset()\n",
    "test = list(zip(test.userid.values, test.movieid.values, test.rating.values)) # Building testset as a user, movie, rating tuple"
   ]
  },
  {
   "cell_type": "code",
   "execution_count": 21,
   "metadata": {},
   "outputs": [
    {
     "name": "stdout",
     "output_type": "stream",
     "text": [
      " processing epoch 0\n",
      " processing epoch 1\n",
      " processing epoch 2\n",
      " processing epoch 3\n",
      " processing epoch 4\n",
      " processing epoch 5\n",
      " processing epoch 6\n",
      " processing epoch 7\n",
      " processing epoch 8\n",
      " processing epoch 9\n",
      " processing epoch 10\n",
      " processing epoch 11\n",
      " processing epoch 12\n",
      " processing epoch 13\n",
      " processing epoch 14\n",
      " processing epoch 15\n",
      " processing epoch 16\n",
      " processing epoch 17\n",
      " processing epoch 18\n",
      " processing epoch 19\n",
      "RMSE: 0.8786\n"
     ]
    },
    {
     "data": {
      "text/plain": [
       "0.8785631281958621"
      ]
     },
     "execution_count": 21,
     "metadata": {},
     "output_type": "execute_result"
    }
   ],
   "source": [
    "# initiallize the model\n",
    "model = SVDpp(n_factors=50, random_state=15, verbose=True)\n",
    "model.fit(train)\n",
    "predictions = model.test(test)\n",
    "\n",
    "# Then compute RMSE\n",
    "accuracy.rmse(predictions)"
   ]
  },
  {
   "cell_type": "code",
   "execution_count": 22,
   "metadata": {},
   "outputs": [
    {
     "name": "stdout",
     "output_type": "stream",
     "text": [
      "RSME:  0.8785631281958621\n",
      "MAPE: 27.17927419607409 %\n"
     ]
    }
   ],
   "source": [
    "# Checking accuracy\n",
    "rsme,mape = get_errors(predictions)\n",
    "print(\"RSME: \", rsme)\n",
    "print(f\"MAPE: {mape} %\")"
   ]
  },
  {
   "cell_type": "markdown",
   "metadata": {},
   "source": [
    "## NMF"
   ]
  },
  {
   "cell_type": "markdown",
   "metadata": {},
   "source": [
    "$ \\large  \\hat r_{ui} = q_i^Tp_u $\n",
    "\n",
    "**Biased Version**\n",
    "\n",
    "$ \\large  \\hat r_{ui} = \\mu + b_u + b_i + q_i^Tp_u $\n",
    "\n",
    "$\\pmb q_i$ - Item Rating Vector\n",
    "$\\pmb p_u$ - User Rating Vector"
   ]
  },
  {
   "cell_type": "code",
   "execution_count": 23,
   "metadata": {},
   "outputs": [],
   "source": [
    "# Due to limitation in computation power I had to try NMF on a smaller dataset\n",
    "train,test = train_test_split(data[['userid','movieid','rating']][:1000000],test_size=0.30, random_state=42)"
   ]
  },
  {
   "cell_type": "code",
   "execution_count": 24,
   "metadata": {},
   "outputs": [],
   "source": [
    "# Building data to run in our NMF model\n",
    "reader = Reader(rating_scale=(1, 10))\n",
    "train = Dataset.load_from_df(train, reader)\n",
    "train = train.build_full_trainset()\n",
    "test = list(zip(test.userid.values, test.movieid.values, test.rating.values)) # Building testset as a user, movie, rating tuple"
   ]
  },
  {
   "cell_type": "code",
   "execution_count": 25,
   "metadata": {},
   "outputs": [
    {
     "name": "stdout",
     "output_type": "stream",
     "text": [
      "Processing epoch 0\n",
      "Processing epoch 1\n",
      "Processing epoch 2\n",
      "Processing epoch 3\n",
      "Processing epoch 4\n",
      "Processing epoch 5\n",
      "Processing epoch 6\n",
      "Processing epoch 7\n",
      "Processing epoch 8\n",
      "Processing epoch 9\n",
      "Processing epoch 10\n",
      "Processing epoch 11\n",
      "Processing epoch 12\n",
      "Processing epoch 13\n",
      "Processing epoch 14\n",
      "Processing epoch 15\n",
      "Processing epoch 16\n",
      "Processing epoch 17\n",
      "Processing epoch 18\n",
      "Processing epoch 19\n",
      "Processing epoch 20\n",
      "Processing epoch 21\n",
      "Processing epoch 22\n",
      "Processing epoch 23\n",
      "Processing epoch 24\n",
      "Processing epoch 25\n",
      "Processing epoch 26\n",
      "Processing epoch 27\n",
      "Processing epoch 28\n",
      "Processing epoch 29\n",
      "Processing epoch 30\n",
      "Processing epoch 31\n",
      "Processing epoch 32\n",
      "Processing epoch 33\n",
      "Processing epoch 34\n",
      "Processing epoch 35\n",
      "Processing epoch 36\n",
      "Processing epoch 37\n",
      "Processing epoch 38\n",
      "Processing epoch 39\n",
      "Processing epoch 40\n",
      "Processing epoch 41\n",
      "Processing epoch 42\n",
      "Processing epoch 43\n",
      "Processing epoch 44\n",
      "Processing epoch 45\n",
      "Processing epoch 46\n",
      "Processing epoch 47\n",
      "Processing epoch 48\n",
      "Processing epoch 49\n",
      "RMSE: 1.0179\n"
     ]
    },
    {
     "data": {
      "text/plain": [
       "1.0179379630811023"
      ]
     },
     "execution_count": 25,
     "metadata": {},
     "output_type": "execute_result"
    }
   ],
   "source": [
    "model = NMF(n_factors=100, biased=True,verbose=True)\n",
    "\n",
    "# Train the algorithm on the training set, and predict ratings for the test set\n",
    "model.fit(train)\n",
    "predictions = model.test(test)\n",
    "\n",
    "# Then compute RMSE\n",
    "accuracy.rmse(predictions)"
   ]
  },
  {
   "cell_type": "code",
   "execution_count": 26,
   "metadata": {},
   "outputs": [
    {
     "name": "stdout",
     "output_type": "stream",
     "text": [
      "RSME:  1.0179379630811023\n",
      "MAPE: 30.549196921568246 %\n"
     ]
    }
   ],
   "source": [
    "# Checking accuracy\n",
    "rsme,mape = get_errors(predictions)\n",
    "print(\"RSME: \", rsme)\n",
    "print(f\"MAPE: {mape} %\")"
   ]
  },
  {
   "cell_type": "markdown",
   "metadata": {},
   "source": [
    "The SVD is performing best with our dataset. Hence lets try to tune our SVD to see the results"
   ]
  },
  {
   "cell_type": "code",
   "execution_count": 27,
   "metadata": {},
   "outputs": [],
   "source": [
    "train,test = train_test_split(data[['userid','movieid','rating']][:1000000],test_size=0.30, random_state=42)"
   ]
  },
  {
   "cell_type": "code",
   "execution_count": 28,
   "metadata": {},
   "outputs": [],
   "source": [
    "# Building data to run in our SVD Hyperparameter model\n",
    "reader = Reader(rating_scale=(1, 10))\n",
    "train = Dataset.load_from_df(train, reader)"
   ]
  },
  {
   "cell_type": "code",
   "execution_count": 35,
   "metadata": {},
   "outputs": [],
   "source": [
    "param_grid = {'n_factors': [80, 100, 120], 'lr_all': [0.001, 0.005, 0.01], 'reg_all': [0.01, 0.02, 0.04]}\n",
    "\n",
    "# Optimize SVD algorithm for both root mean squared error ('rmse') and mean average error ('mae')\n",
    "gs = model_selection.RandomizedSearchCV(SVD, param_grid, measures=['rmse', 'mae'], return_train_measures=True,joblib_verbose=100,n_jobs=5)"
   ]
  },
  {
   "cell_type": "code",
   "execution_count": 36,
   "metadata": {},
   "outputs": [
    {
     "name": "stdout",
     "output_type": "stream",
     "text": [
      "[Parallel(n_jobs=5)]: Using backend LokyBackend with 5 concurrent workers.\n",
      "[Parallel(n_jobs=5)]: Done   1 tasks      | elapsed:   32.2s\n",
      "[Parallel(n_jobs=5)]: Done   2 tasks      | elapsed:   40.1s\n",
      "[Parallel(n_jobs=5)]: Done   3 tasks      | elapsed:   48.8s\n",
      "[Parallel(n_jobs=5)]: Done   4 tasks      | elapsed:   57.7s\n",
      "[Parallel(n_jobs=5)]: Done   5 tasks      | elapsed:  1.1min\n",
      "[Parallel(n_jobs=5)]: Done   6 tasks      | elapsed:  1.2min\n",
      "[Parallel(n_jobs=5)]: Done   7 tasks      | elapsed:  1.4min\n",
      "[Parallel(n_jobs=5)]: Done   8 tasks      | elapsed:  1.5min\n",
      "[Parallel(n_jobs=5)]: Done   9 tasks      | elapsed:  1.6min\n",
      "[Parallel(n_jobs=5)]: Done  10 tasks      | elapsed:  1.8min\n",
      "[Parallel(n_jobs=5)]: Done  11 tasks      | elapsed:  1.8min\n",
      "[Parallel(n_jobs=5)]: Done  12 tasks      | elapsed:  2.0min\n",
      "[Parallel(n_jobs=5)]: Done  13 tasks      | elapsed:  2.1min\n",
      "[Parallel(n_jobs=5)]: Done  14 tasks      | elapsed:  2.2min\n",
      "[Parallel(n_jobs=5)]: Done  15 tasks      | elapsed:  2.3min\n",
      "[Parallel(n_jobs=5)]: Done  16 tasks      | elapsed:  2.5min\n",
      "[Parallel(n_jobs=5)]: Done  17 tasks      | elapsed:  2.6min\n",
      "[Parallel(n_jobs=5)]: Done  18 tasks      | elapsed:  2.8min\n",
      "[Parallel(n_jobs=5)]: Done  19 tasks      | elapsed:  2.9min\n",
      "[Parallel(n_jobs=5)]: Done  20 tasks      | elapsed:  3.0min\n",
      "[Parallel(n_jobs=5)]: Done  21 tasks      | elapsed:  3.2min\n",
      "[Parallel(n_jobs=5)]: Done  22 tasks      | elapsed:  3.3min\n",
      "[Parallel(n_jobs=5)]: Done  23 tasks      | elapsed:  3.5min\n",
      "[Parallel(n_jobs=5)]: Done  24 tasks      | elapsed:  3.6min\n",
      "[Parallel(n_jobs=5)]: Done  25 tasks      | elapsed:  3.7min\n",
      "[Parallel(n_jobs=5)]: Done  26 tasks      | elapsed:  3.9min\n",
      "[Parallel(n_jobs=5)]: Done  27 tasks      | elapsed:  4.0min\n",
      "[Parallel(n_jobs=5)]: Done  28 tasks      | elapsed:  4.2min\n",
      "[Parallel(n_jobs=5)]: Done  29 tasks      | elapsed:  4.3min\n",
      "[Parallel(n_jobs=5)]: Done  30 tasks      | elapsed:  4.4min\n",
      "[Parallel(n_jobs=5)]: Done  31 tasks      | elapsed:  4.6min\n",
      "[Parallel(n_jobs=5)]: Done  32 tasks      | elapsed:  4.7min\n",
      "[Parallel(n_jobs=5)]: Done  33 tasks      | elapsed:  4.9min\n",
      "[Parallel(n_jobs=5)]: Done  34 tasks      | elapsed:  5.0min\n",
      "[Parallel(n_jobs=5)]: Done  35 tasks      | elapsed:  5.2min\n",
      "[Parallel(n_jobs=5)]: Done  36 tasks      | elapsed:  5.3min\n",
      "[Parallel(n_jobs=5)]: Done  37 tasks      | elapsed:  5.5min\n",
      "[Parallel(n_jobs=5)]: Done  38 tasks      | elapsed:  5.6min\n",
      "[Parallel(n_jobs=5)]: Done  39 tasks      | elapsed:  5.8min\n",
      "[Parallel(n_jobs=5)]: Done  40 tasks      | elapsed:  5.9min\n",
      "[Parallel(n_jobs=5)]: Done  41 tasks      | elapsed:  6.0min\n",
      "[Parallel(n_jobs=5)]: Done  42 out of  50 | elapsed:  6.1min remaining:  1.2min\n",
      "[Parallel(n_jobs=5)]: Done  43 out of  50 | elapsed:  6.2min remaining:  1.0min\n",
      "[Parallel(n_jobs=5)]: Done  44 out of  50 | elapsed:  6.4min remaining:   52.3s\n",
      "[Parallel(n_jobs=5)]: Done  45 out of  50 | elapsed:  6.5min remaining:   43.6s\n",
      "[Parallel(n_jobs=5)]: Done  46 out of  50 | elapsed:  6.7min remaining:   34.7s\n",
      "[Parallel(n_jobs=5)]: Done  47 out of  50 | elapsed:  6.8min remaining:   25.9s\n",
      "[Parallel(n_jobs=5)]: Done  48 out of  50 | elapsed:  6.9min remaining:   17.2s\n",
      "[Parallel(n_jobs=5)]: Done  50 out of  50 | elapsed:  7.1min remaining:    0.0s\n",
      "[Parallel(n_jobs=5)]: Done  50 out of  50 | elapsed:  7.1min finished\n"
     ]
    }
   ],
   "source": [
    "# Fit the gridsearch result on the entire dataset\n",
    "gs.fit(train)"
   ]
  },
  {
   "cell_type": "code",
   "execution_count": 45,
   "metadata": {},
   "outputs": [
    {
     "name": "stdout",
     "output_type": "stream",
     "text": [
      "Best Param {'n_factors': 120, 'lr_all': 0.01, 'reg_all': 0.04}\n",
      "RSME Best Score 0.8870458724711889\n",
      "MAE Best Score 0.696267700085528\n"
     ]
    }
   ],
   "source": [
    "print(\"Best Param\",gs.best_params['rmse'])\n",
    "print(\"RSME Best Score\",gs.best_score['rmse'])\n",
    "print(\"MAE Best Score\",gs.best_score['mae'])"
   ]
  },
  {
   "cell_type": "markdown",
   "metadata": {},
   "source": [
    "*Lets train our model now on the whole training set*"
   ]
  },
  {
   "cell_type": "code",
   "execution_count": 46,
   "metadata": {},
   "outputs": [],
   "source": [
    "# Prepairing Test Data\n",
    "train = train.build_full_trainset()\n",
    "test = list(zip(test.userid.values, test.movieid.values, test.rating.values)) # Building testset as a user, movie, rating tuple"
   ]
  },
  {
   "cell_type": "code",
   "execution_count": 50,
   "metadata": {},
   "outputs": [
    {
     "name": "stdout",
     "output_type": "stream",
     "text": [
      "SVD : Test Set\n",
      "RSME:  1.0179379630811023\n",
      "MAPE: 30.549196921568246\n"
     ]
    }
   ],
   "source": [
    "model = SVD(n_factors= 120, lr_all= 0.01, reg_all= 0.04)\n",
    "model.fit(train) # re-fit on only the training data using the best hyperparameters\n",
    "test_pred = model.test(test)\n",
    "print(\"SVD : Test Set\")\n",
    "# Checking accuracy\n",
    "rsme,mape = get_errors(predictions)\n",
    "print(\"RSME: \", rsme)\n",
    "print(f\"MAPE: {mape}\")"
   ]
  },
  {
   "cell_type": "markdown",
   "metadata": {},
   "source": [
    "# Checking our model on real world data"
   ]
  },
  {
   "cell_type": "code",
   "execution_count": 52,
   "metadata": {},
   "outputs": [],
   "source": [
    "train,test = train_test_split(data[['userid','movieid','rating']][:500000],test_size=0.30, random_state=42)"
   ]
  },
  {
   "cell_type": "code",
   "execution_count": 85,
   "metadata": {},
   "outputs": [
    {
     "data": {
      "text/html": [
       "<div>\n",
       "<style scoped>\n",
       "    .dataframe tbody tr th:only-of-type {\n",
       "        vertical-align: middle;\n",
       "    }\n",
       "\n",
       "    .dataframe tbody tr th {\n",
       "        vertical-align: top;\n",
       "    }\n",
       "\n",
       "    .dataframe thead th {\n",
       "        text-align: right;\n",
       "    }\n",
       "</style>\n",
       "<table border=\"1\" class=\"dataframe\">\n",
       "  <thead>\n",
       "    <tr style=\"text-align: right;\">\n",
       "      <th></th>\n",
       "      <th>userid</th>\n",
       "      <th>movieid</th>\n",
       "      <th>rating</th>\n",
       "      <th>timestamp</th>\n",
       "      <th>movie</th>\n",
       "      <th>genre</th>\n",
       "    </tr>\n",
       "  </thead>\n",
       "  <tbody>\n",
       "    <tr>\n",
       "      <th>0</th>\n",
       "      <td>1.0</td>\n",
       "      <td>122</td>\n",
       "      <td>5.0</td>\n",
       "      <td>8.389850e+08</td>\n",
       "      <td>Boomerang (1992)</td>\n",
       "      <td>Comedy|Romance</td>\n",
       "    </tr>\n",
       "    <tr>\n",
       "      <th>1</th>\n",
       "      <td>139.0</td>\n",
       "      <td>122</td>\n",
       "      <td>3.0</td>\n",
       "      <td>9.743026e+08</td>\n",
       "      <td>Boomerang (1992)</td>\n",
       "      <td>Comedy|Romance</td>\n",
       "    </tr>\n",
       "    <tr>\n",
       "      <th>2</th>\n",
       "      <td>149.0</td>\n",
       "      <td>122</td>\n",
       "      <td>2.5</td>\n",
       "      <td>1.112342e+09</td>\n",
       "      <td>Boomerang (1992)</td>\n",
       "      <td>Comedy|Romance</td>\n",
       "    </tr>\n",
       "    <tr>\n",
       "      <th>3</th>\n",
       "      <td>182.0</td>\n",
       "      <td>122</td>\n",
       "      <td>3.0</td>\n",
       "      <td>9.434588e+08</td>\n",
       "      <td>Boomerang (1992)</td>\n",
       "      <td>Comedy|Romance</td>\n",
       "    </tr>\n",
       "    <tr>\n",
       "      <th>4</th>\n",
       "      <td>215.0</td>\n",
       "      <td>122</td>\n",
       "      <td>4.5</td>\n",
       "      <td>1.102494e+09</td>\n",
       "      <td>Boomerang (1992)</td>\n",
       "      <td>Comedy|Romance</td>\n",
       "    </tr>\n",
       "  </tbody>\n",
       "</table>\n",
       "</div>"
      ],
      "text/plain": [
       "   userid  movieid  rating     timestamp             movie           genre\n",
       "0     1.0      122     5.0  8.389850e+08  Boomerang (1992)  Comedy|Romance\n",
       "1   139.0      122     3.0  9.743026e+08  Boomerang (1992)  Comedy|Romance\n",
       "2   149.0      122     2.5  1.112342e+09  Boomerang (1992)  Comedy|Romance\n",
       "3   182.0      122     3.0  9.434588e+08  Boomerang (1992)  Comedy|Romance\n",
       "4   215.0      122     4.5  1.102494e+09  Boomerang (1992)  Comedy|Romance"
      ]
     },
     "execution_count": 85,
     "metadata": {},
     "output_type": "execute_result"
    }
   ],
   "source": [
    "data.head()"
   ]
  },
  {
   "cell_type": "code",
   "execution_count": 79,
   "metadata": {},
   "outputs": [
    {
     "name": "stdout",
     "output_type": "stream",
     "text": [
      "user: 65923.0    item: 466        r_ui = None   est = 2.77   {'was_impossible': False}\n"
     ]
    }
   ],
   "source": [
    "# get a prediction for specific users and items.\n",
    "uid = 65923.0  # the user_id int\n",
    "iid = 466 # the movieid string\n",
    "# This pair has an actual rating of 2.00!\n",
    "pred = model.predict(uid, iid, verbose=True)"
   ]
  },
  {
   "cell_type": "code",
   "execution_count": 80,
   "metadata": {},
   "outputs": [
    {
     "name": "stdout",
     "output_type": "stream",
     "text": [
      "The estimated rating for the movie with the \"movieid\" code 466 from user #65923.0 is 2.77.\n",
      "\n",
      "The real rating given for this was 2.00.\n",
      "Movie Name:  Hot Shots! Part Deux (1993)\n"
     ]
    }
   ],
   "source": [
    "print(f'The estimated rating for the movie with the \"movieid\" code {pred.iid} from user #{pred.uid} is {pred.est:.2f}.\\n')\n",
    "actual_rtg = data[(data.userid==pred.uid) & (data.movieid==pred.iid)].rating.values[0]\n",
    "print(f'The real rating given for this was {actual_rtg:.2f}.')\n",
    "print('Movie Name: ',list(data[data.movieid==pred.iid]['movie'])[0])"
   ]
  },
  {
   "cell_type": "code",
   "execution_count": 81,
   "metadata": {},
   "outputs": [
    {
     "name": "stdout",
     "output_type": "stream",
     "text": [
      "user: 9584.0     item: 364        r_ui = None   est = 4.42   {'was_impossible': False}\n"
     ]
    }
   ],
   "source": [
    "# get a prediction for specific users and items.\n",
    "uid = 9584.0  # the user_id int\n",
    "iid = 364 # the movieid string\n",
    "# This pair has an actual rating of 4.0!\n",
    "\n",
    "pred = model.predict(uid, iid, verbose=True)"
   ]
  },
  {
   "cell_type": "code",
   "execution_count": 82,
   "metadata": {},
   "outputs": [
    {
     "name": "stdout",
     "output_type": "stream",
     "text": [
      "The estimated rating for the movie with the \"movieid\" code 364 from user #9584.0 is 4.42.\n",
      "\n",
      "The real rating given for this was 4.00.\n",
      "Movie Name:  Lion King, The (1994)\n"
     ]
    }
   ],
   "source": [
    "print(f'The estimated rating for the movie with the \"movieid\" code {pred.iid} from user #{pred.uid} is {pred.est:.2f}.\\n')\n",
    "actual_rtg = data[(data.userid==pred.uid) & (data.movieid==pred.iid)].rating.values[0]\n",
    "print(f'The real rating given for this was {actual_rtg:.2f}.')\n",
    "print('Movie Name: ',list(data[data.movieid==pred.iid]['movie'])[0])"
   ]
  },
  {
   "cell_type": "markdown",
   "metadata": {},
   "source": [
    "We are getting ratings in the similar neighbourhood for the users.<br>\n",
    "Hence we are able to capture the relationship in a much better way"
   ]
  },
  {
   "cell_type": "code",
   "execution_count": 97,
   "metadata": {},
   "outputs": [],
   "source": [
    "# this function returns the top recommendations as per our model\n",
    "def get_top_n(predictions, n=5):\n",
    "    top_n = defaultdict(list)\n",
    "    for uid, iid, true_r, est, _ in predictions: # For each user we are mapping the item id and its predictive ratings\n",
    "        top_n[uid].append((iid, est))\n",
    "\n",
    "    # sorting the top items as per the value to 'n' provided.\n",
    "    for uid, user_ratings in top_n.items():\n",
    "        user_ratings.sort(key=lambda x: x[1], reverse=True)\n",
    "        top_n[uid] = user_ratings[:n]\n",
    "        \n",
    "    return top_n"
   ]
  },
  {
   "cell_type": "code",
   "execution_count": 96,
   "metadata": {},
   "outputs": [],
   "source": [
    "def get_recommendations(userid):\n",
    "    movies_list = defaultdict(list)\n",
    "    top_n = get_top_n(predictions, n=5) # Taking in the list of top 'n' recommendations\n",
    "    for n in top_n[userid]: # For each user id retriving movie names from the movieid \n",
    "        movies, rating = n\n",
    "        title = data.loc[data.movieid==movies].movie.unique()[0]\n",
    "        movies_list[title] = rating\n",
    "    return movies_list"
   ]
  },
  {
   "cell_type": "code",
   "execution_count": 120,
   "metadata": {},
   "outputs": [
    {
     "name": "stdout",
     "output_type": "stream",
     "text": [
      "Jurassic Park (1993): 4.539296470964872\n",
      "Star Wars: Episode IV - A New Hope (a.k.a. Star Wars) (1977): 4.286019363047113\n",
      "Terminator 2: Judgment Day (1991): 4.2312873497581185\n",
      "Braveheart (1995): 4.094596753230709\n",
      "Forrest Gump (1994): 4.0257881974427265\n"
     ]
    }
   ],
   "source": [
    "# Just take a random look at user_id=2123.0 \n",
    "example = get_recommendations(userid=2123.0)\n",
    "for flicks, rating in example.items():\n",
    "    print(f'{flicks}: {rating}')"
   ]
  },
  {
   "cell_type": "code",
   "execution_count": 124,
   "metadata": {},
   "outputs": [
    {
     "data": {
      "text/html": [
       "<div>\n",
       "<style scoped>\n",
       "    .dataframe tbody tr th:only-of-type {\n",
       "        vertical-align: middle;\n",
       "    }\n",
       "\n",
       "    .dataframe tbody tr th {\n",
       "        vertical-align: top;\n",
       "    }\n",
       "\n",
       "    .dataframe thead th {\n",
       "        text-align: right;\n",
       "    }\n",
       "</style>\n",
       "<table border=\"1\" class=\"dataframe\">\n",
       "  <thead>\n",
       "    <tr style=\"text-align: right;\">\n",
       "      <th></th>\n",
       "      <th>movie</th>\n",
       "      <th>rating</th>\n",
       "    </tr>\n",
       "  </thead>\n",
       "  <tbody>\n",
       "    <tr>\n",
       "      <th>68</th>\n",
       "      <td>Boomerang (1992)</td>\n",
       "      <td>2.0</td>\n",
       "    </tr>\n",
       "    <tr>\n",
       "      <th>2832</th>\n",
       "      <td>Net, The (1995)</td>\n",
       "      <td>3.0</td>\n",
       "    </tr>\n",
       "    <tr>\n",
       "      <th>17879</th>\n",
       "      <td>Dumb &amp; Dumber (1994)</td>\n",
       "      <td>4.0</td>\n",
       "    </tr>\n",
       "    <tr>\n",
       "      <th>35678</th>\n",
       "      <td>Outbreak (1995)</td>\n",
       "      <td>4.0</td>\n",
       "    </tr>\n",
       "    <tr>\n",
       "      <th>51842</th>\n",
       "      <td>Stargate (1994)</td>\n",
       "      <td>3.0</td>\n",
       "    </tr>\n",
       "    <tr>\n",
       "      <th>...</th>\n",
       "      <td>...</td>\n",
       "      <td>...</td>\n",
       "    </tr>\n",
       "    <tr>\n",
       "      <th>9208254</th>\n",
       "      <td>Miami Rhapsody (1995)</td>\n",
       "      <td>3.0</td>\n",
       "    </tr>\n",
       "    <tr>\n",
       "      <th>9316395</th>\n",
       "      <td>Bad Girls (1994)</td>\n",
       "      <td>1.0</td>\n",
       "    </tr>\n",
       "    <tr>\n",
       "      <th>9339306</th>\n",
       "      <td>Stuart Saves His Family (1995)</td>\n",
       "      <td>3.0</td>\n",
       "    </tr>\n",
       "    <tr>\n",
       "      <th>9408613</th>\n",
       "      <td>I Love Trouble (1994)</td>\n",
       "      <td>2.0</td>\n",
       "    </tr>\n",
       "    <tr>\n",
       "      <th>9573082</th>\n",
       "      <td>Little Buddha (1993)</td>\n",
       "      <td>3.0</td>\n",
       "    </tr>\n",
       "  </tbody>\n",
       "</table>\n",
       "<p>289 rows × 2 columns</p>\n",
       "</div>"
      ],
      "text/plain": [
       "                                  movie  rating\n",
       "68                     Boomerang (1992)     2.0\n",
       "2832                    Net, The (1995)     3.0\n",
       "17879              Dumb & Dumber (1994)     4.0\n",
       "35678                   Outbreak (1995)     4.0\n",
       "51842                   Stargate (1994)     3.0\n",
       "...                                 ...     ...\n",
       "9208254           Miami Rhapsody (1995)     3.0\n",
       "9316395                Bad Girls (1994)     1.0\n",
       "9339306  Stuart Saves His Family (1995)     3.0\n",
       "9408613           I Love Trouble (1994)     2.0\n",
       "9573082            Little Buddha (1993)     3.0\n",
       "\n",
       "[289 rows x 2 columns]"
      ]
     },
     "execution_count": 124,
     "metadata": {},
     "output_type": "execute_result"
    }
   ],
   "source": [
    "data[data.userid==2123.0][['movie','rating']]"
   ]
  },
  {
   "cell_type": "code",
   "execution_count": 114,
   "metadata": {},
   "outputs": [
    {
     "name": "stdout",
     "output_type": "stream",
     "text": [
      "Star Wars: Episode IV - A New Hope (a.k.a. Star Wars) (1977): 3.908181989298681\n",
      "Aladdin (1992): 3.560019166464716\n",
      "Lion King, The (1994): 3.5299835276873313\n",
      "Rock, The (1996): 3.4939522689369866\n",
      "Speed (1994): 3.417517575457356\n"
     ]
    }
   ],
   "source": [
    "# Just take a random look at user_id=53315.0\n",
    "example = get_recommendations(userid=53315.0)\n",
    "for flicks, rating in example.items():\n",
    "    print(f'{flicks}: {rating}')"
   ]
  },
  {
   "cell_type": "code",
   "execution_count": 123,
   "metadata": {},
   "outputs": [
    {
     "data": {
      "text/html": [
       "<div>\n",
       "<style scoped>\n",
       "    .dataframe tbody tr th:only-of-type {\n",
       "        vertical-align: middle;\n",
       "    }\n",
       "\n",
       "    .dataframe tbody tr th {\n",
       "        vertical-align: top;\n",
       "    }\n",
       "\n",
       "    .dataframe thead th {\n",
       "        text-align: right;\n",
       "    }\n",
       "</style>\n",
       "<table border=\"1\" class=\"dataframe\">\n",
       "  <thead>\n",
       "    <tr style=\"text-align: right;\">\n",
       "      <th></th>\n",
       "      <th>movie</th>\n",
       "      <th>rating</th>\n",
       "    </tr>\n",
       "  </thead>\n",
       "  <tbody>\n",
       "    <tr>\n",
       "      <th>13639</th>\n",
       "      <td>Net, The (1995)</td>\n",
       "      <td>4.0</td>\n",
       "    </tr>\n",
       "    <tr>\n",
       "      <th>30866</th>\n",
       "      <td>Dumb &amp; Dumber (1994)</td>\n",
       "      <td>3.5</td>\n",
       "    </tr>\n",
       "    <tr>\n",
       "      <th>47312</th>\n",
       "      <td>Outbreak (1995)</td>\n",
       "      <td>3.0</td>\n",
       "    </tr>\n",
       "    <tr>\n",
       "      <th>65535</th>\n",
       "      <td>Stargate (1994)</td>\n",
       "      <td>3.0</td>\n",
       "    </tr>\n",
       "    <tr>\n",
       "      <th>82408</th>\n",
       "      <td>Star Trek: Generations (1994)</td>\n",
       "      <td>3.0</td>\n",
       "    </tr>\n",
       "    <tr>\n",
       "      <th>...</th>\n",
       "      <td>...</td>\n",
       "      <td>...</td>\n",
       "    </tr>\n",
       "    <tr>\n",
       "      <th>9999168</th>\n",
       "      <td>Jeremy (1973)</td>\n",
       "      <td>2.5</td>\n",
       "    </tr>\n",
       "    <tr>\n",
       "      <th>9999516</th>\n",
       "      <td>Just Between Friends (1986)</td>\n",
       "      <td>4.0</td>\n",
       "    </tr>\n",
       "    <tr>\n",
       "      <th>9999608</th>\n",
       "      <td>Conflict (1945)</td>\n",
       "      <td>4.0</td>\n",
       "    </tr>\n",
       "    <tr>\n",
       "      <th>9999931</th>\n",
       "      <td>ThÃ©rÃ¨se (2004)</td>\n",
       "      <td>3.5</td>\n",
       "    </tr>\n",
       "    <tr>\n",
       "      <th>9999955</th>\n",
       "      <td>Uncle Nino (2003)</td>\n",
       "      <td>4.0</td>\n",
       "    </tr>\n",
       "  </tbody>\n",
       "</table>\n",
       "<p>2522 rows × 2 columns</p>\n",
       "</div>"
      ],
      "text/plain": [
       "                                 movie  rating\n",
       "13639                  Net, The (1995)     4.0\n",
       "30866             Dumb & Dumber (1994)     3.5\n",
       "47312                  Outbreak (1995)     3.0\n",
       "65535                  Stargate (1994)     3.0\n",
       "82408    Star Trek: Generations (1994)     3.0\n",
       "...                                ...     ...\n",
       "9999168                  Jeremy (1973)     2.5\n",
       "9999516    Just Between Friends (1986)     4.0\n",
       "9999608                Conflict (1945)     4.0\n",
       "9999931               ThÃ©rÃ¨se (2004)     3.5\n",
       "9999955              Uncle Nino (2003)     4.0\n",
       "\n",
       "[2522 rows x 2 columns]"
      ]
     },
     "execution_count": 123,
     "metadata": {},
     "output_type": "execute_result"
    }
   ],
   "source": [
    "data[data.userid==53315.0][['movie','rating']]"
   ]
  },
  {
   "cell_type": "markdown",
   "metadata": {},
   "source": [
    "The model is performing well in recommending user with movies which is rated higher.<br>\n",
    "However the model would perform better if whole of the dataset could be used to in modeling.<br>\n",
    "Given that the subset of our data is being used, the model is performing well in recommending movies to the user."
   ]
  },
  {
   "cell_type": "code",
   "execution_count": null,
   "metadata": {},
   "outputs": [],
   "source": []
  }
 ],
 "metadata": {
  "kernelspec": {
   "display_name": "Python 3",
   "language": "python",
   "name": "python3"
  },
  "language_info": {
   "codemirror_mode": {
    "name": "ipython",
    "version": 3
   },
   "file_extension": ".py",
   "mimetype": "text/x-python",
   "name": "python",
   "nbconvert_exporter": "python",
   "pygments_lexer": "ipython3",
   "version": "3.7.9"
  },
  "toc": {
   "base_numbering": 1,
   "nav_menu": {},
   "number_sections": true,
   "sideBar": true,
   "skip_h1_title": false,
   "title_cell": "Table of Contents",
   "title_sidebar": "Contents",
   "toc_cell": false,
   "toc_position": {},
   "toc_section_display": true,
   "toc_window_display": false
  },
  "varInspector": {
   "cols": {
    "lenName": 16,
    "lenType": 16,
    "lenVar": 40
   },
   "kernels_config": {
    "python": {
     "delete_cmd_postfix": "",
     "delete_cmd_prefix": "del ",
     "library": "var_list.py",
     "varRefreshCmd": "print(var_dic_list())"
    },
    "r": {
     "delete_cmd_postfix": ") ",
     "delete_cmd_prefix": "rm(",
     "library": "var_list.r",
     "varRefreshCmd": "cat(var_dic_list()) "
    }
   },
   "types_to_exclude": [
    "module",
    "function",
    "builtin_function_or_method",
    "instance",
    "_Feature"
   ],
   "window_display": false
  }
 },
 "nbformat": 4,
 "nbformat_minor": 4
}
